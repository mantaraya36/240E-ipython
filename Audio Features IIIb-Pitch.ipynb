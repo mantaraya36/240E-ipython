{
 "metadata": {
  "name": "Audio Features IIIb-Pitch"
 },
 "nbformat": 3,
 "nbformat_minor": 0,
 "worksheets": [
  {
   "cells": [
    {
     "cell_type": "heading",
     "level": 1,
     "metadata": {},
     "source": [
      "Audio Features-Pitch extraction"
     ]
    },
    {
     "cell_type": "heading",
     "level": 1,
     "metadata": {},
     "source": [
      "Pitch"
     ]
    },
    {
     "cell_type": "code",
     "collapsed": false,
     "input": [
      "import essentia.standard\n",
      "\n",
      "loader = essentia.standard.MonoLoader(filename = 'sources/180451__iluppai__alto-saxophone-solo.wav')\n",
      "sax = loader()\n",
      "sax_sr = 44100"
     ],
     "language": "python",
     "metadata": {},
     "outputs": []
    },
    {
     "cell_type": "code",
     "collapsed": false,
     "input": [
      "plot(sax);"
     ],
     "language": "python",
     "metadata": {},
     "outputs": []
    },
    {
     "cell_type": "code",
     "collapsed": false,
     "input": [
      "import essentia.standard\n",
      "\n",
      "loader = essentia.standard.MonoLoader(filename = 'sources/109193__juskiddink__leq-acappella.wav')\n",
      "voice = loader()\n",
      "voice_sr = 44100"
     ],
     "language": "python",
     "metadata": {},
     "outputs": []
    },
    {
     "cell_type": "code",
     "collapsed": false,
     "input": [
      "import essentia.standard\n",
      "\n",
      "loader = essentia.standard.MonoLoader(filename = 'sources/32804__johnwally__solo-man.wav')\n",
      "guitar = loader()\n",
      "guitar_sr = 44100"
     ],
     "language": "python",
     "metadata": {},
     "outputs": []
    },
    {
     "cell_type": "heading",
     "level": 2,
     "metadata": {},
     "source": [
      "Pitch tracking (F0 estimation)"
     ]
    },
    {
     "cell_type": "heading",
     "level": 3,
     "metadata": {},
     "source": [
      "Time domain zero crossing"
     ]
    },
    {
     "cell_type": "code",
     "collapsed": false,
     "input": [
      "def windowed_zcr(sig_in, winsize, hop, sr = 1.0):\n",
      "    l = len(sig_in)\n",
      "    win_start = arange(0, l - winsize, hop)\n",
      "    zcr = zeros((len(win_start)))\n",
      "    for i, start in enumerate(win_start):\n",
      "        sl = sig_in[start: start + winsize].astype(float)\n",
      "        zcr[i] = (sr/float(winsize)) * sum(sl[:-1]*sl[1:] < 0)\n",
      "\n",
      "    times = win_start + winsize/2\n",
      "    return times/float(sr), zcr"
     ],
     "language": "python",
     "metadata": {},
     "outputs": []
    },
    {
     "cell_type": "code",
     "collapsed": false,
     "input": [
      "plot(linspace(0, 1, 44100), sax[:44100])\n",
      "ylim((-1,1))\n",
      "twinx()\n",
      "plot(*windowed_zcr(sax[:44100], 1024, 128, sax_sr), color='k', lw=2);\n",
      "ylabel('frequency (Hz)')\n",
      "grid()"
     ],
     "language": "python",
     "metadata": {},
     "outputs": []
    },
    {
     "cell_type": "code",
     "collapsed": false,
     "input": [
      "plot(linspace(0, 1, 44100), voice[:44100])\n",
      "ylim((-1,1))\n",
      "twinx()\n",
      "plot(*windowed_zcr(voice[:44100], 1024, 128, voice_sr), color='k', lw=2);\n",
      "ylabel('frequency (Hz)')\n",
      "grid()"
     ],
     "language": "python",
     "metadata": {},
     "outputs": []
    },
    {
     "cell_type": "code",
     "collapsed": false,
     "input": [
      "plot(linspace(0, 1, 44100), guitar[:44100])\n",
      "ylim((-1,1))\n",
      "twinx()\n",
      "plot(*windowed_zcr(guitar[:44100], 1024, 128, guitar_sr), color='k', lw=2);\n",
      "ylabel('frequency (Hz)')\n",
      "grid()"
     ],
     "language": "python",
     "metadata": {},
     "outputs": []
    },
    {
     "cell_type": "code",
     "collapsed": false,
     "input": [
      "plot(linspace(0, 1, 44100), guitar[:44100])\n",
      "ylim((-0.2,0.2))\n",
      "\n",
      "hlines(0, 0.55, 0.6)\n",
      "twinx()\n",
      "plot(*windowed_zcr(guitar[:44100], 1024, 128, guitar_sr), color='k', marker='o',lw=2);\n",
      "ylabel('frequency (Hz)')\n",
      "grid()\n",
      "xlim((0.55, 0.6))"
     ],
     "language": "python",
     "metadata": {},
     "outputs": []
    },
    {
     "cell_type": "code",
     "collapsed": false,
     "input": [
      "plot(linspace(0, 1, 44100), guitar[:44100])\n",
      "ylim((-0.02,0.02))\n",
      "\n",
      "hlines(0, 0.8, 0.85)\n",
      "twinx()\n",
      "plot(*windowed_zcr(guitar[:44100], 1024, 128, guitar_sr), color='k', marker='o',lw=2);\n",
      "ylabel('frequency (Hz)')\n",
      "grid()\n",
      "xlim((0.8, 0.85))"
     ],
     "language": "python",
     "metadata": {},
     "outputs": []
    },
    {
     "cell_type": "markdown",
     "metadata": {},
     "source": [
      "Very low level signals are not distinguishable from high level ones (This is generally a problem of most pitch detection methods!)"
     ]
    },
    {
     "cell_type": "code",
     "collapsed": false,
     "input": [
      "rms = windowed_rms(guitar[:44100], 1024, 128, guitar_sr)\n",
      "zcr = windowed_zcr(guitar[:44100], 1024, 128, guitar_sr)\n",
      "plot(*rms)"
     ],
     "language": "python",
     "metadata": {},
     "outputs": []
    },
    {
     "cell_type": "code",
     "collapsed": false,
     "input": [
      "rms_th = where(array(rms[1]) > 0.02, 1.0, 0.0)\n",
      "plot(zcr[0], zcr[1]*rms_th)"
     ],
     "language": "python",
     "metadata": {},
     "outputs": []
    },
    {
     "cell_type": "markdown",
     "metadata": {},
     "source": [
      "Now must approximate to \"valid\" pitches."
     ]
    },
    {
     "cell_type": "code",
     "collapsed": false,
     "input": [
      "def midi2Hz(midinote, tuning=440.0):\n",
      "    return tuning * (2**((midinote - 69)/12.0))\n",
      "\n",
      "midi2Hz(69), midi2Hz(60), midi2Hz(24)"
     ],
     "language": "python",
     "metadata": {},
     "outputs": []
    },
    {
     "cell_type": "code",
     "collapsed": false,
     "input": [
      "num_freqs = 8*12 # nine octaves from C0\n",
      "\n",
      "quant_freqs = [midi2Hz(i + 24) for i in range(num_freqs)]\n",
      "array(quant_freqs)"
     ],
     "language": "python",
     "metadata": {},
     "outputs": []
    },
    {
     "cell_type": "code",
     "collapsed": false,
     "input": [
      "def quantize_freq(freq_list, quant_freqs, quant_offset=24):\n",
      "    quantized = zeros_like(freq_list)\n",
      "    for i in range(len(freq_list)):\n",
      "        arg = argwhere(quant_freqs > freq_list[i])\n",
      "        if arg.size == 0 or arg[0] == 0:\n",
      "            quantized[i] = 0\n",
      "        elif quant_freqs[arg[0]] - freq_list[i] > freq_list[i] - quant_freqs[arg[0] - 1]:\n",
      "            quantized[i] = arg[0] - 1\n",
      "        else:\n",
      "            quantized[i] = arg[0]\n",
      "    return quantized + quant_offset"
     ],
     "language": "python",
     "metadata": {},
     "outputs": []
    },
    {
     "cell_type": "code",
     "collapsed": false,
     "input": [
      "rms_th = where(array(rms[1]) > 0.02, 1.0, 0.0)\n",
      "quantized = quantize_freq(zcr[1], quant_freqs)\n",
      "plot(zcr[0], quantized*rms_th)"
     ],
     "language": "python",
     "metadata": {},
     "outputs": []
    },
    {
     "cell_type": "code",
     "collapsed": false,
     "input": [
      "plot(zcr[0], quantized*rms_th)\n",
      "ylim((50, 75))\n",
      "grid()"
     ],
     "language": "python",
     "metadata": {},
     "outputs": []
    },
    {
     "cell_type": "heading",
     "level": 3,
     "metadata": {},
     "source": [
      "Auto-correlation"
     ]
    },
    {
     "cell_type": "markdown",
     "metadata": {},
     "source": [
      "Maximum lags determines the lowest frequency we can detect"
     ]
    },
    {
     "cell_type": "code",
     "collapsed": false,
     "input": [
      "44100.0/512"
     ],
     "language": "python",
     "metadata": {},
     "outputs": []
    },
    {
     "cell_type": "code",
     "collapsed": false,
     "input": [
      "times, lags, acorrfs = windowed_acorr(sax[:44100], 2048, 512, sax_sr)"
     ],
     "language": "python",
     "metadata": {},
     "outputs": []
    },
    {
     "cell_type": "code",
     "collapsed": false,
     "input": [
      "imshow(array(acorrfs).T, aspect='auto')\n",
      "yticks(linspace(0, 1024, 5), linspace(-512, 512, 5).astype(int));"
     ],
     "language": "python",
     "metadata": {},
     "outputs": []
    },
    {
     "cell_type": "code",
     "collapsed": false,
     "input": [
      "plot(sax[:44100])"
     ],
     "language": "python",
     "metadata": {},
     "outputs": []
    },
    {
     "cell_type": "code",
     "collapsed": false,
     "input": [
      "array(acorrfs).shape"
     ],
     "language": "python",
     "metadata": {},
     "outputs": []
    },
    {
     "cell_type": "markdown",
     "metadata": {},
     "source": [
      "Need to not count central peak (e.g. by determining highest frequency)\n"
     ]
    },
    {
     "cell_type": "code",
     "collapsed": false,
     "input": [
      "fmax = 4000.0\n",
      "L = 44100.0/fmax\n",
      "L"
     ],
     "language": "python",
     "metadata": {},
     "outputs": []
    },
    {
     "cell_type": "code",
     "collapsed": false,
     "input": [
      "apeaks = argmax(array(acorrfs)[:,:512 - round(L)], axis=1)"
     ],
     "language": "python",
     "metadata": {},
     "outputs": []
    },
    {
     "cell_type": "code",
     "collapsed": false,
     "input": [
      "imshow(array(acorrfs).T, aspect='auto')\n",
      "plot(apeaks, color='w', lw=3)\n",
      "xlim((0, 83))\n",
      "ylim((0, 520))\n",
      "\n",
      "yticks(linspace(512, 0, 5), linspace(0, -512, 5).astype(int));"
     ],
     "language": "python",
     "metadata": {},
     "outputs": []
    },
    {
     "cell_type": "markdown",
     "metadata": {},
     "source": [
      "Now convert sample delays into frequency:"
     ]
    },
    {
     "cell_type": "code",
     "collapsed": false,
     "input": [
      "plot(lags, acorrfs[30])\n",
      "grid()"
     ],
     "language": "python",
     "metadata": {},
     "outputs": []
    },
    {
     "cell_type": "code",
     "collapsed": false,
     "input": [
      "plot(44100.0/(512 - apeaks))"
     ],
     "language": "python",
     "metadata": {},
     "outputs": []
    },
    {
     "cell_type": "code",
     "collapsed": false,
     "input": [
      "times, sax_rms = windowed_rms(sax[:44100], 2048, 512, sax_sr)\n",
      "plot(times, sax_rms)"
     ],
     "language": "python",
     "metadata": {},
     "outputs": []
    },
    {
     "cell_type": "code",
     "collapsed": false,
     "input": [
      "sax_rms_th = where(array(sax_rms) > 0.02, 1.0, 0.0)"
     ],
     "language": "python",
     "metadata": {},
     "outputs": []
    },
    {
     "cell_type": "code",
     "collapsed": false,
     "input": [
      "sax_freqs = sax_rms_th * 44100.0/(512 - apeaks)\n",
      "plot(sax_freqs)"
     ],
     "language": "python",
     "metadata": {},
     "outputs": []
    },
    {
     "cell_type": "code",
     "collapsed": false,
     "input": [
      "quantized = quantize_freq(sax_freqs, quant_freqs)\n",
      "plot(sax_freqs)\n",
      "plot(440 * 2**((quantized - 69)/12.0))"
     ],
     "language": "python",
     "metadata": {},
     "outputs": []
    },
    {
     "cell_type": "code",
     "collapsed": false,
     "input": [
      "plot(sax_freqs)\n",
      "plot(440 * 2**((quantized - 69)/12.0))\n",
      "ylim((150, 200))\n",
      "legend(['measured', 'quantized'], loc='best')\n",
      "grid()"
     ],
     "language": "python",
     "metadata": {},
     "outputs": []
    },
    {
     "cell_type": "code",
     "collapsed": false,
     "input": [
      "quantized[30], quantized[60]"
     ],
     "language": "python",
     "metadata": {},
     "outputs": []
    },
    {
     "cell_type": "markdown",
     "metadata": {},
     "source": [
      "53 = E$\\flat$, 55 = F"
     ]
    },
    {
     "cell_type": "code",
     "collapsed": false,
     "input": [
      "win_size = 2048\n",
      "hop = 512\n",
      "times, lags, acorrfs = windowed_acorr(guitar[:44100], win_size, hop, guitar_sr)\n",
      "\n",
      "fmax = 3000.0\n",
      "L = 44100.0/fmax\n",
      "apeaks = argmax(array(acorrfs)[:,:hop - round(L)], axis=1)\n",
      "\n",
      "times, rms = windowed_rms(guitar[:44100], win_size, hop, guitar_sr)\n",
      "\n",
      "rms_th = where(array(rms) > 0.02, 1.0, 0.0)\n",
      "detected_freqs = rms_th * 44100.0/(hop - apeaks)\n",
      "quantized = quantize_freq(detected_freqs, quant_freqs)"
     ],
     "language": "python",
     "metadata": {},
     "outputs": []
    },
    {
     "cell_type": "code",
     "collapsed": false,
     "input": [
      "imshow(array(acorrfs).T, aspect='auto')\n",
      "plot(apeaks, color='w', lw=3)\n",
      "xlim((0, 83))\n",
      "ylim((0, 520))\n",
      "\n",
      "yticks(linspace(512, 0, 5), linspace(0, -512, 5).astype(int));"
     ],
     "language": "python",
     "metadata": {},
     "outputs": []
    },
    {
     "cell_type": "code",
     "collapsed": false,
     "input": [
      "plot(detected_freqs)\n",
      "plot(440 * 2**((quantized - 69)/12.0))\n",
      "ylim((250, 450))\n",
      "legend(['measured', 'quantized'], loc='best')\n",
      "grid()"
     ],
     "language": "python",
     "metadata": {},
     "outputs": []
    },
    {
     "cell_type": "code",
     "collapsed": false,
     "input": [
      "plot(quantized)\n",
      "ylim((55, 70))\n",
      "grid()"
     ],
     "language": "python",
     "metadata": {},
     "outputs": []
    },
    {
     "cell_type": "code",
     "collapsed": false,
     "input": [
      "win_size = 2048\n",
      "hop = 512\n",
      "times, lags, acorrfs = windowed_acorr(voice[:44100], win_size, hop, voice_sr)\n",
      "\n",
      "fmax = 3000.0\n",
      "L = 44100.0/fmax\n",
      "apeaks = argmax(array(acorrfs)[:,:hop - round(L)], axis=1)\n",
      "\n",
      "times, rms = windowed_rms(voice[:44100], win_size, hop, voice_sr)\n",
      "\n",
      "rms_th = where(array(rms) > 0.02, 1.0, 0.0)\n",
      "detected_freqs = rms_th * 44100.0/(hop - apeaks)\n",
      "quantized = quantize_freq(detected_freqs, quant_freqs)"
     ],
     "language": "python",
     "metadata": {},
     "outputs": []
    },
    {
     "cell_type": "code",
     "collapsed": false,
     "input": [
      "imshow(array(acorrfs).T, aspect='auto')\n",
      "plot(apeaks, color='w', lw=3)\n",
      "xlim((0, 83))\n",
      "ylim((0, 520))\n",
      "\n",
      "yticks(linspace(512, 0, 5), linspace(0, -512, 5).astype(int));"
     ],
     "language": "python",
     "metadata": {},
     "outputs": []
    },
    {
     "cell_type": "code",
     "collapsed": false,
     "input": [
      "plot(detected_freqs)\n",
      "plot(440 * 2**((quantized - 69)/12.0))\n",
      "ylim((150, 450))\n",
      "legend(['measured', 'quantized'], loc='best')\n",
      "grid()"
     ],
     "language": "python",
     "metadata": {},
     "outputs": []
    },
    {
     "cell_type": "code",
     "collapsed": false,
     "input": [
      "plot(quantized)\n",
      "ylim((50, 65))\n",
      "grid()`"
     ],
     "language": "python",
     "metadata": {},
     "outputs": []
    },
    {
     "cell_type": "heading",
     "level": 3,
     "metadata": {},
     "source": [
      "Frequency domain"
     ]
    },
    {
     "cell_type": "code",
     "collapsed": false,
     "input": [
      "Pxx, times, freqs, line = specgram(sax[:44100], NFFT=2048, noverlap=512+1024, Fs=sax_sr)"
     ],
     "language": "python",
     "metadata": {},
     "outputs": []
    },
    {
     "cell_type": "code",
     "collapsed": false,
     "input": [
      "peaks = argmax(Pxx, axis=0)\n",
      "peaks.shape"
     ],
     "language": "python",
     "metadata": {},
     "outputs": []
    },
    {
     "cell_type": "code",
     "collapsed": false,
     "input": [
      "plot(peaks)"
     ],
     "language": "python",
     "metadata": {},
     "outputs": []
    },
    {
     "cell_type": "code",
     "collapsed": false,
     "input": [
      "Pxx, times, freqs, line = specgram(sax[:44100], NFFT=4096, noverlap=2048, Fs=sax_sr)"
     ],
     "language": "python",
     "metadata": {},
     "outputs": []
    },
    {
     "cell_type": "code",
     "collapsed": false,
     "input": [
      "peaks = argmax(Pxx, axis=0)\n",
      "plot(sax_sr* peaks/4096.0)\n",
      "grid()"
     ],
     "language": "python",
     "metadata": {},
     "outputs": []
    },
    {
     "cell_type": "code",
     "collapsed": false,
     "input": [
      "peaks = argsort(Pxx, axis=0)\n",
      "peaks.shape"
     ],
     "language": "python",
     "metadata": {},
     "outputs": []
    },
    {
     "cell_type": "code",
     "collapsed": false,
     "input": [
      "plot(peaks[-4:].T);"
     ],
     "language": "python",
     "metadata": {},
     "outputs": []
    },
    {
     "cell_type": "code",
     "collapsed": false,
     "input": [
      "plot(sax_sr* peaks[-4:].T/4096.0);"
     ],
     "language": "python",
     "metadata": {},
     "outputs": []
    },
    {
     "cell_type": "code",
     "collapsed": false,
     "input": [
      "plot(sax_sr* peaks[-6:].T/4096.0);"
     ],
     "language": "python",
     "metadata": {},
     "outputs": []
    },
    {
     "cell_type": "code",
     "collapsed": false,
     "input": [
      "plot(sax_sr* peaks[-6:].T/4096.0);\n",
      "ylim((150, 200))\n",
      "grid()"
     ],
     "language": "python",
     "metadata": {},
     "outputs": []
    },
    {
     "cell_type": "code",
     "collapsed": false,
     "input": [
      "midi2Hz(53), midi2Hz(55)"
     ],
     "language": "python",
     "metadata": {},
     "outputs": []
    },
    {
     "cell_type": "code",
     "collapsed": false,
     "input": [
      "plot(sax_sr* peaks[-6:].T/4096.0);\n",
      "ylim((150, 200))\n",
      "grid()\n",
      "hlines((midi2Hz(53), midi2Hz(55)), 0, 20)"
     ],
     "language": "python",
     "metadata": {},
     "outputs": []
    },
    {
     "cell_type": "markdown",
     "metadata": {},
     "source": [
      "The frequency spectrum technique would need further refinements, in particular better resolution for the low frequencies, with interpolation or zero-padding, and some heuristics to select peaks."
     ]
    },
    {
     "cell_type": "heading",
     "level": 3,
     "metadata": {},
     "source": [
      "Average Magnitude Difference Function (AMDF)"
     ]
    },
    {
     "cell_type": "markdown",
     "metadata": {},
     "source": [
      "Like Autocorrelation, but uses subtraction instead of multiplication which can be faster.\n",
      "\n",
      "$$ AMDF(m) = \\sum\\limits_{n=0}^{N-1}{ |x(n) - x(n + m)|^k}$$\n",
      "\n"
     ]
    },
    {
     "cell_type": "code",
     "collapsed": false,
     "input": [
      "def windowed_amdf(input_sig, win_size, hop=None, sr=1.0, maxlags=None, k = 1):\n",
      "    if not hop:\n",
      "        hop = win_size/2\n",
      "    if not maxlags:\n",
      "        maxlags = win_size/4\n",
      "    window_start = arange(0, len(input_sig) - win_size - maxlags, hop)\n",
      "    amdfs = []\n",
      "    for start in window_start:\n",
      "        amdfsn = []\n",
      "        w = input_sig[start: start+win_size].astype(float)\n",
      "        for lag in range(maxlags):\n",
      "            wm = input_sig[start + lag: start+win_size + lag].astype(float)\n",
      "            amdfsn.append(sum(abs(w - wm)**k))\n",
      "        amdfs.append(amdfsn)\n",
      "        \n",
      "    times = (window_start + win_size/2)/float(sr)\n",
      "    return times, amdfs"
     ],
     "language": "python",
     "metadata": {},
     "outputs": []
    },
    {
     "cell_type": "code",
     "collapsed": false,
     "input": [
      "times, amdfs = windowed_amdf(sax[:44100], win_size=2048, hop=1024, sr=44100, maxlags=1024, k=1)\n",
      "imshow(array(amdfs).T, aspect='auto')\n",
      "colorbar()"
     ],
     "language": "python",
     "metadata": {},
     "outputs": []
    },
    {
     "cell_type": "markdown",
     "metadata": {},
     "source": [
      "Here we look for minima:"
     ]
    },
    {
     "cell_type": "code",
     "collapsed": false,
     "input": [
      "plot(amdfs[20][:])"
     ],
     "language": "python",
     "metadata": {},
     "outputs": []
    },
    {
     "cell_type": "code",
     "collapsed": false,
     "input": [
      "minima_at = argmin(array(amdfs)[:,20:], axis=1) + 20\n",
      "plot(minima_at)"
     ],
     "language": "python",
     "metadata": {},
     "outputs": []
    },
    {
     "cell_type": "markdown",
     "metadata": {},
     "source": [
      "In Hz:"
     ]
    },
    {
     "cell_type": "code",
     "collapsed": false,
     "input": [
      "freqs = sax_sr/minima_at"
     ],
     "language": "python",
     "metadata": {},
     "outputs": []
    },
    {
     "cell_type": "code",
     "collapsed": false,
     "input": [
      "plot(freqs)"
     ],
     "language": "python",
     "metadata": {},
     "outputs": []
    },
    {
     "cell_type": "code",
     "collapsed": false,
     "input": [
      "plot(freqs)\n",
      "ylim((50, 250))\n",
      "grid()"
     ],
     "language": "python",
     "metadata": {},
     "outputs": []
    },
    {
     "cell_type": "code",
     "collapsed": false,
     "input": [
      "plot(quantize_freq(freqs, quant_freqs))\n",
      "ylim((30, 60))\n",
      "grid()"
     ],
     "language": "python",
     "metadata": {},
     "outputs": []
    },
    {
     "cell_type": "code",
     "collapsed": false,
     "input": [
      "times, amdfs = windowed_amdf(voice[:44100], win_size=2048, hop=1024, sr=44100, maxlags=1024, k=1)\n",
      "imshow(array(amdfs).T, aspect='auto')\n",
      "colorbar()"
     ],
     "language": "python",
     "metadata": {},
     "outputs": []
    },
    {
     "cell_type": "code",
     "collapsed": false,
     "input": [
      "minima_at = argmin(array(amdfs)[:,20:], axis=1) + 20\n",
      "freqs = voice_sr/minima_at\n",
      "plot(quantize_freq(freqs, quant_freqs))\n",
      "ylim((50, 65))\n",
      "grid()"
     ],
     "language": "python",
     "metadata": {},
     "outputs": []
    },
    {
     "cell_type": "code",
     "collapsed": false,
     "input": [
      "times, amdfs = windowed_amdf(guitar[:44100], win_size=2048, hop=1024, sr=44100, maxlags=1024, k=1)\n",
      "imshow(array(amdfs).T, aspect='auto')\n",
      "colorbar()"
     ],
     "language": "python",
     "metadata": {},
     "outputs": []
    },
    {
     "cell_type": "code",
     "collapsed": false,
     "input": [
      "minima_at = argmin(array(amdfs)[:,20:], axis=1) + 20\n",
      "freqs = guitar_sr/minima_at\n",
      "plot(quantize_freq(freqs, quant_freqs))\n",
      "ylim((55, 70))\n",
      "grid()"
     ],
     "language": "python",
     "metadata": {},
     "outputs": []
    },
    {
     "cell_type": "heading",
     "level": 3,
     "metadata": {},
     "source": [
      "Cepstral pitch detection"
     ]
    },
    {
     "cell_type": "code",
     "collapsed": false,
     "input": [
      "Pxx, times, freqs, im = specgram(sax[:44100], NFFT=2048, noverlap=1024, Fs=sax_sr, scale_by_freq=False)"
     ],
     "language": "python",
     "metadata": {},
     "outputs": []
    },
    {
     "cell_type": "code",
     "collapsed": false,
     "input": [
      "imshow(log10(Pxx), aspect='auto')"
     ],
     "language": "python",
     "metadata": {},
     "outputs": []
    },
    {
     "cell_type": "code",
     "collapsed": false,
     "input": [
      "log_spec = log10(Pxx)[:]\n",
      "cepstrum = real(fft.rfft(log_spec, axis=0))**2\n",
      "imshow(cepstrum[100:,:], aspect='auto')"
     ],
     "language": "python",
     "metadata": {},
     "outputs": []
    },
    {
     "cell_type": "code",
     "collapsed": false,
     "input": [
      "plot(cepstrum[50:,10])\n",
      "plot(cepstrum[50:,15])"
     ],
     "language": "python",
     "metadata": {},
     "outputs": []
    },
    {
     "cell_type": "code",
     "collapsed": false,
     "input": [
      "plot(log10(Pxx[:,10]))\n",
      "plot(log10(Pxx[:,15]))\n",
      "\n",
      "xlim((0, 300))"
     ],
     "language": "python",
     "metadata": {},
     "outputs": []
    },
    {
     "cell_type": "code",
     "collapsed": false,
     "input": [
      "maxima = argmax(cepstrum[50:], axis=0) + 50\n",
      "plot(maxima)"
     ],
     "language": "python",
     "metadata": {},
     "outputs": []
    },
    {
     "cell_type": "code",
     "collapsed": false,
     "input": [
      "plot(maxima)\n",
      "ylim((100, 150))"
     ],
     "language": "python",
     "metadata": {},
     "outputs": []
    },
    {
     "cell_type": "code",
     "collapsed": false,
     "input": [
      "maxima[6], maxima[15]"
     ],
     "language": "python",
     "metadata": {},
     "outputs": []
    },
    {
     "cell_type": "markdown",
     "metadata": {},
     "source": [
      "X-axis for Ceptra is in time units!"
     ]
    },
    {
     "cell_type": "code",
     "collapsed": false,
     "input": [
      "22050.0/maxima[6], 22050.0/maxima[15]"
     ],
     "language": "python",
     "metadata": {},
     "outputs": []
    },
    {
     "cell_type": "code",
     "collapsed": false,
     "input": [
      "freqs = 22050.0/maxima\n",
      "plot(freqs)\n",
      "grid()"
     ],
     "language": "python",
     "metadata": {},
     "outputs": []
    },
    {
     "cell_type": "code",
     "collapsed": false,
     "input": [
      "plot(quantize_freq(freqs, quant_freqs))\n",
      "grid()"
     ],
     "language": "python",
     "metadata": {},
     "outputs": []
    },
    {
     "cell_type": "code",
     "collapsed": false,
     "input": [
      "Pxx, times, freqs, im = specgram(voice[:44100], NFFT=2048, noverlap=1024, Fs=voice_sr, scale_by_freq=False)\n",
      "log_spec = log10(Pxx)\n",
      "cepstrum = real(fft.rfft(log_spec, axis=0))**2\n",
      "maxima = argmax(cepstrum[50:], axis=0) + 50\n",
      "freqs = 22050.0/maxima\n",
      "\n",
      "clf()\n",
      "plot(freqs)"
     ],
     "language": "python",
     "metadata": {},
     "outputs": []
    },
    {
     "cell_type": "code",
     "collapsed": false,
     "input": [
      "plot(quantize_freq(freqs, quant_freqs))"
     ],
     "language": "python",
     "metadata": {},
     "outputs": []
    },
    {
     "cell_type": "code",
     "collapsed": false,
     "input": [
      "Pxx, times, freqs, im = specgram(guitar[:44100], NFFT=2048, noverlap=1024, Fs=guitar_sr, scale_by_freq=False)\n",
      "log_spec = log10(Pxx)\n",
      "cepstrum = real(fft.rfft(log_spec, axis=0))**2\n",
      "maxima = argmax(cepstrum[50:], axis=0) + 50\n",
      "freqs = 22050.0/maxima\n",
      "\n",
      "clf()\n",
      "plot(freqs)\n",
      "grid()"
     ],
     "language": "python",
     "metadata": {},
     "outputs": []
    },
    {
     "cell_type": "code",
     "collapsed": false,
     "input": [
      "plot(quantize_freq(freqs, quant_freqs))\n",
      "grid()"
     ],
     "language": "python",
     "metadata": {},
     "outputs": []
    },
    {
     "cell_type": "heading",
     "level": 3,
     "metadata": {},
     "source": [
      "YIN and SWIPE algorithms"
     ]
    },
    {
     "cell_type": "markdown",
     "metadata": {},
     "source": [
      "More modern approaches:\n",
      "\n",
      "De Cheveigne\u0301, A., & Kawahara, H. (2002). YIN, a fundamental frequency estimator for speech and music. The Journal of the Acoustical Society of America, 111(4), 1917. doi:10.1121/1.1458024\n",
      "\n",
      "Camacho, A., & Harris, J. G. (2008). A sawtooth waveform inspired pitch estimator for speech and music. The Journal of the Acoustical Society of America, 124(3), 1638\u201352. doi:10.1121/1.2951592\n"
     ]
    },
    {
     "cell_type": "heading",
     "level": 2,
     "metadata": {},
     "source": [
      "Pitch histogram and chroma"
     ]
    },
    {
     "cell_type": "code",
     "collapsed": false,
     "input": [],
     "language": "python",
     "metadata": {},
     "outputs": []
    },
    {
     "cell_type": "code",
     "collapsed": false,
     "input": [],
     "language": "python",
     "metadata": {},
     "outputs": []
    },
    {
     "cell_type": "code",
     "collapsed": false,
     "input": [],
     "language": "python",
     "metadata": {},
     "outputs": []
    },
    {
     "cell_type": "heading",
     "level": 2,
     "metadata": {},
     "source": [
      "Chromagram"
     ]
    },
    {
     "cell_type": "code",
     "collapsed": false,
     "input": [
      "import librosa\n",
      "\n",
      "cm = librosa.feature.chromagram(superstition, 44100)"
     ],
     "language": "python",
     "metadata": {},
     "outputs": []
    },
    {
     "cell_type": "code",
     "collapsed": false,
     "input": [
      "imshow(cm, aspect='auto', interpolation='nearest')"
     ],
     "language": "python",
     "metadata": {},
     "outputs": []
    },
    {
     "cell_type": "code",
     "collapsed": false,
     "input": [
      "bar(arange(12), sum(cm, axis=1))"
     ],
     "language": "python",
     "metadata": {},
     "outputs": []
    },
    {
     "cell_type": "code",
     "collapsed": false,
     "input": [
      "from scipy.io import wavfile\n",
      "sr, thx = wavfile.read('sources/THX.wav')\n",
      "\n",
      "mfccs = librosa.feature.mfcc(y=thx, sr=sr, )"
     ],
     "language": "python",
     "metadata": {},
     "outputs": []
    },
    {
     "cell_type": "code",
     "collapsed": false,
     "input": [
      "imshow(mfccs[1:13], aspect='auto', interpolation='nearest')"
     ],
     "language": "python",
     "metadata": {},
     "outputs": []
    },
    {
     "cell_type": "heading",
     "level": 1,
     "metadata": {},
     "source": [
      "Temporal summarization"
     ]
    },
    {
     "cell_type": "markdown",
     "metadata": {},
     "source": [
      "Smoothing-resampling\n",
      "\n",
      "Centroid, mean centroid, std centroid"
     ]
    },,
    {
     "cell_type": "heading",
     "level": 2,
     "metadata": {},
     "source": [
      "Self-similarity matrix of RMS"
     ]
    },
    {
     "cell_type": "markdown",
     "metadata": {},
     "source": [
      "http://en.wikipedia.org/wiki/Self-similarity_matrix"
     ]
    },
    {
     "cell_type": "code",
     "collapsed": false,
     "input": [
      "rms = super_rms[0:1000]\n",
      "plot(rms)"
     ],
     "language": "python",
     "metadata": {},
     "outputs": []
    },
    {
     "cell_type": "code",
     "collapsed": false,
     "input": [
      "from scipy.signal import decimate\n",
      "\n",
      "rms_dec = decimate(super_rms, 6)\n",
      "plot(rms_dec)\n"
     ],
     "language": "python",
     "metadata": {},
     "outputs": []
    },
    {
     "cell_type": "code",
     "collapsed": false,
     "input": [
      "ss_win_size = 100\n",
      "ss_hop = 1\n",
      "\n",
      "\n",
      "in_sig = rms_dec[:500]\n",
      "\n",
      "win_start = arange(0, len(in_sig)- ss_win_size, ss_hop)\n",
      "\n",
      "ssm = []\n",
      "\n",
      "for starti in win_start:\n",
      "    for startj in win_start:\n",
      "        wini = in_sig[starti: starti+ss_win_size]\n",
      "        winj = in_sig[startj: startj+ss_win_size]\n",
      "        ssm.append(corrcoef(wini, winj)[0, 1])\n",
      "\n",
      "ssm = array(ssm).reshape(len(win_start), len(win_start))\n"
     ],
     "language": "python",
     "metadata": {},
     "outputs": []
    },
    {
     "cell_type": "code",
     "collapsed": false,
     "input": [
      "ssm.shape"
     ],
     "language": "python",
     "metadata": {},
     "outputs": []
    },
    {
     "cell_type": "code",
     "collapsed": false,
     "input": [
      "imshow(ssm, cmap='gray')\n",
      "\n",
      "ylim((0, 44))"
     ],
     "language": "python",
     "metadata": {},
     "outputs": []
    },
    {
     "cell_type": "heading",
     "level": 2,
     "metadata": {},
     "source": [
      "Beat histogram"
     ]
    },
    {
     "cell_type": "code",
     "collapsed": false,
     "input": [
      "from IPython.core.display import Image \n",
      "Image(filename='Beat_histogram.png') \n"
     ],
     "language": "python",
     "metadata": {},
     "outputs": []
    },
    {
     "cell_type": "markdown",
     "metadata": {},
     "source": [
      "G. Tzanetakis and P. Cook. Musical genre classification of audio signals. IEEE Transactions on Speech and Audio Processing, 10(5):293\u2013302, 2002"
     ]
    },
    {
     "cell_type": "markdown",
     "metadata": {},
     "source": [
      "Essentially finding \"sub-tempos\" in the autocorrelation function to find other significant rhythmic subdivisions, and their relationships."
     ]
    },
    {
     "cell_type": "code",
     "collapsed": false,
     "input": [
      "maxima = argwhere((cc[:-2] < cc[1:-1]) & (cc[1:-1] > cc[2:]))\n",
      "plot(lags, cc)\n",
      "grid()\n",
      "plot(lags[maxima],cc[maxima], 'o') "
     ],
     "language": "python",
     "metadata": {},
     "outputs": []
    },
    {
     "cell_type": "code",
     "collapsed": false,
     "input": [],
     "language": "python",
     "metadata": {},
     "outputs": []
    }
   ],
   "metadata": {}
  }
 ]
}