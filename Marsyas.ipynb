{
 "metadata": {
  "name": "Marsyas"
 },
 "nbformat": 3,
 "nbformat_minor": 0,
 "worksheets": [
  {
   "cells": [
    {
     "cell_type": "heading",
     "level": 1,
     "metadata": {},
     "source": [
      "Marsyas Tutorial"
     ]
    },
    {
     "cell_type": "heading",
     "level": 2,
     "metadata": {},
     "source": [
      "Documentation"
     ]
    },
    {
     "cell_type": "markdown",
     "metadata": {},
     "source": [
      "http://marsyas.info/assets/docs/\n",
      "\n",
      "But many things are missing. Maybe you can help?\n",
      "\n",
      "The Marsyas API docs can be found here:\n",
      "\n",
      "http://marsyas.info/assets/docs/sourceDoc/html/index.html\n",
      "\n",
      "You can also build the documentation for your source version using:\n",
      "\n",
      "    make docs"
     ]
    },
    {
     "cell_type": "heading",
     "level": 2,
     "metadata": {},
     "source": [
      "Command line utilities"
     ]
    },
    {
     "cell_type": "code",
     "collapsed": false,
     "input": [
      "ls /home/andres/Documents/src/marsyas/build/bin"
     ],
     "language": "python",
     "metadata": {},
     "outputs": [
      {
       "output_type": "stream",
       "stream": "stdout",
       "text": [
        "\u001b[0m\u001b[01;32maim\u001b[0m*                  \u001b[01;32mextractMoodFeatures\u001b[0m*    \u001b[01;32mkea\u001b[0m*                        \u001b[01;32mmarsyas-latency-test\u001b[0m*     \u001b[01;32mmudbox\u001b[0m*      \u001b[01;32mpeakClustering\u001b[0m*      \u001b[01;32mpitchdtw\u001b[0m*       \u001b[01;32msfinfo\u001b[0m*       sources.mf      \u001b[01;32mWHaSp\u001b[0m*\r\n",
        "\u001b[01;32maudioCompare\u001b[0m*         \u001b[01;32mextractRhythmFeatures\u001b[0m*  \u001b[01;32mMarGrid\u001b[0m*                    \u001b[01;32mmarsyas-run\u001b[0m*              \u001b[01;32mnextract\u001b[0m*    \u001b[01;32mpeakClustering2\u001b[0m*     \u001b[01;32mpitchdtw_pair\u001b[0m*  \u001b[01;32msfplay\u001b[0m*       \u001b[01;32mspeakerSeg\u001b[0m*     \u001b[01;32mwreckBeach\u001b[0m*\r\n",
        "\u001b[01;32mbextract\u001b[0m*             \u001b[01;32mhelloWorld\u001b[0m*             \u001b[01;32mmarsyas-debug\u001b[0m*              \u001b[01;32mmirex_extract\u001b[0m*            \u001b[01;32momRms\u001b[0m*       \u001b[01;32mpeakClusteringEval\u001b[0m*  \u001b[01;32mpitchextract\u001b[0m*   \u001b[01;32msfplugin\u001b[0m*     \u001b[01;32mspeakerSeg2\u001b[0m*\r\n",
        "bextract_single.mf    helloworld.wav          MARSYAS_EMPTYMARSYAS_EMPTY  \u001b[01;32mmirex_train_and_predict\u001b[0m*  \u001b[01;32monsets\u001b[0m*      \u001b[01;32mpeakSynth\u001b[0m*           \u001b[01;32mrecord\u001b[0m*         \u001b[01;32msound2png\u001b[0m*    \u001b[01;32mtempo\u001b[0m*\r\n",
        "\u001b[01;32mextractBassFeatures\u001b[0m*  \u001b[01;32mibt\u001b[0m*                    MARSYAS_EMPTYmfcc.arff      \u001b[01;32mmkcollection\u001b[0m*             \u001b[01;32morcarecord\u001b[0m*  \u001b[01;32mphasevocoder\u001b[0m*        \u001b[01;32mrhythmMap\u001b[0m*      \u001b[01;32msound2sound\u001b[0m*  \u001b[01;32mvirtualsensor\u001b[0m*\r\n"
       ]
      }
     ],
     "prompt_number": 1
    },
    {
     "cell_type": "code",
     "collapsed": false,
     "input": [
      "import sys\n",
      "sys.path.append('/home/andres/Documents/src/marsyas/build/bin')"
     ],
     "language": "python",
     "metadata": {},
     "outputs": [],
     "prompt_number": 2
    },
    {
     "cell_type": "markdown",
     "metadata": {},
     "source": [
      "You can run shell commands in ipython with '!'"
     ]
    },
    {
     "cell_type": "code",
     "collapsed": false,
     "input": [
      "!onsets -h"
     ],
     "language": "python",
     "metadata": {},
     "outputs": [
      {
       "output_type": "stream",
       "stream": "stdout",
       "text": [
        "onsets, MARSYAS, Copyright George Tzanetakis \r\n",
        "--------------------------------------------------------\r\n",
        "Detect the onsets in the sound file provided as argument\r\n",
        "\r\n",
        "Usage : onsetsfileName\r\n",
        "\r\n",
        "where file is a sound file in a Marsyas supported format\r\n",
        "Help Options:\r\n",
        "-u --usage      : display short usage info\r\n",
        "-h --help       : display this information \r\n",
        "-v --verbose    : verbose output \r\n",
        "-as --audiosynth: synthesize onsets and mix with original sound\r\n",
        "-th --threshold : a positive floating number for thresholding the novelty function\r\n",
        "-co --confidence : output confidence of onsets\r\n"
       ]
      }
     ],
     "prompt_number": 3
    },
    {
     "cell_type": "code",
     "collapsed": false,
     "input": [
      "!onsets 'sources/Dire Straits - Walk of life.wav' > wof_onsets.txt"
     ],
     "language": "python",
     "metadata": {},
     "outputs": [],
     "prompt_number": 4
    },
    {
     "cell_type": "code",
     "collapsed": false,
     "input": [
      "f = open('wof_onsets.txt')\n",
      "lines = f.readlines()\n",
      "print lines[:5]\n",
      "print lines[-5:]"
     ],
     "language": "python",
     "metadata": {},
     "outputs": [
      {
       "output_type": "stream",
       "stream": "stdout",
       "text": [
        "['Marsyas onset detection\\n', 'fname0 = sources/Dire Straits - Walk of life.wav\\n', 'Sampling rate = 44100\\n', '0.510839\\n', '0.661769\\n']"
       ]
      },
      {
       "output_type": "stream",
       "stream": "stdout",
       "text": [
        "\n",
        "['234.986\\n', '235.195\\n', '235.265\\n', '295.149\\n', 'Done writing Dire Straits - Walk of life.output\\n']\n"
       ]
      }
     ],
     "prompt_number": 5
    },
    {
     "cell_type": "code",
     "collapsed": false,
     "input": [
      "onsets = [float(val) for val in lines[3:-1]]"
     ],
     "language": "python",
     "metadata": {},
     "outputs": [],
     "prompt_number": 6
    },
    {
     "cell_type": "code",
     "collapsed": false,
     "input": [
      "onsets[0], onsets[-1]"
     ],
     "language": "python",
     "metadata": {},
     "outputs": [
      {
       "output_type": "pyout",
       "prompt_number": 7,
       "text": [
        "(0.510839, 295.149)"
       ]
      }
     ],
     "prompt_number": 7
    },
    {
     "cell_type": "code",
     "collapsed": false,
     "input": [
      "plot(diff(onsets))"
     ],
     "language": "python",
     "metadata": {},
     "outputs": [
      {
       "output_type": "pyout",
       "prompt_number": 8,
       "text": [
        "[<matplotlib.lines.Line2D at 0x2c20a50>]"
       ]
      },
      {
       "output_type": "display_data",
       "png": "[encoded data removed]"
      }
     ],
     "prompt_number": 8
    },
    {
     "cell_type": "code",
     "collapsed": false,
     "input": [
      "plot(diff(onsets)[:-1])"
     ],
     "language": "python",
     "metadata": {},
     "outputs": [
      {
       "output_type": "pyout",
       "prompt_number": 9,
       "text": [
        "[<matplotlib.lines.Line2D at 0x2e21650>]"
       ]
      },
      {
       "output_type": "display_data",
       "png": "[encoded data removed]"
      }
     ],
     "prompt_number": 9
    },
    {
     "cell_type": "code",
     "collapsed": false,
     "input": [
      "plot(diff(onsets)[:-1])\n",
      "hlines(diff(onsets)[:-1].mean(), 300, 500)\n",
      "hlines(diff(onsets)[:-1].mean()* 2, 300, 500)\n",
      "hlines(diff(onsets)[:-1].mean()/ 2, 300, 500)\n",
      "xlim(300, 500)"
     ],
     "language": "python",
     "metadata": {},
     "outputs": [
      {
       "output_type": "pyout",
       "prompt_number": 10,
       "text": [
        "(300, 500)"
       ]
      },
      {
       "output_type": "display_data",
       "png": "[encoded data removed]"
      }
     ],
     "prompt_number": 10
    },
    {
     "cell_type": "markdown",
     "metadata": {},
     "source": [
      "Other extractor programs read \"collections\" so we must first make one:"
     ]
    },
    {
     "cell_type": "code",
     "collapsed": false,
     "input": [
      "!mkcollection -c sources.mf -l sources \"/home/andres/Documents/01 Documentos/06 Santa Barbara/Lectures/240E/ipython/sources/\""
     ],
     "language": "python",
     "metadata": {},
     "outputs": [
      {
       "output_type": "stream",
       "stream": "stdout",
       "text": [
        "Writing collectionName = sources into file sources.mf\r\n",
        "Adding Contents of Directory = /home/andres/Documents/01 Documentos/06 Santa Barbara/Lectures/240E/ipython/sources/\r\n",
        " to collection sources.mf\r\n",
        "Adding directory entry Dire Straits - Walk of life.wav\r\n",
        "Adding directory entry passport.wav\r\n",
        "Adding directory entry Dire Straits - Walk of life.mp3\r\n",
        "Adding directory entry THX.wav\r\n",
        "Adding directory entry Bob Dylan - Canadee-I-O.mp3\r\n",
        "Adding directory entry Messiaen-Turangalila4.mp3\r\n",
        "Adding directory entry 04 - Brandenburg Concerto No. 5_ I. Allegro.mp3\r\n",
        "Adding directory entry 180451__iluppai__alto-saxophone-solo.wav\r\n",
        "Adding directory entry Led Zeppelin - Rock And Roll.mp3\r\n",
        "Adding directory entry 109193__juskiddink__leq-acappella.wav\r\n",
        "Adding directory entry Isaac Hayes - Out Of The Ghetto.mp3\r\n",
        "Adding directory entry superstition.wav\r\n",
        "Adding directory entry Palestrina-Gloria.mp3\r\n",
        "Adding directory entry 32804__johnwally__solo-man.wav\r\n",
        "Adding directory entry Stevie Wonder - Superstition.mp3\r\n",
        "Adding directory entry Bob Marley - Buffalo Soldier.mp3\r\n",
        "Wrote collection sources.mf\r\n"
       ]
      }
     ],
     "prompt_number": 11
    },
    {
     "cell_type": "markdown",
     "metadata": {},
     "source": [
      "Now let's run the *bextract* utility"
     ]
    },
    {
     "cell_type": "code",
     "collapsed": false,
     "input": [
      "!bextract -h"
     ],
     "language": "python",
     "metadata": {},
     "outputs": [
      {
       "output_type": "stream",
       "stream": "stdout",
       "text": [
        "bextract, MARSYAS, Copyright George Tzanetakis \r\n",
        "--------------------------------------------\r\n",
        "Prints information about the sound files provided as arguments \r\n",
        "\r\n",
        "Usage : bextract file1 file2 file3\r\n",
        "\r\n",
        "where file1, ..., fileN are sound files in a Marsyas supported format\r\n",
        "Help Options:\r\n",
        "-u  --usage        : display short usage info\r\n",
        "-v  --verbose      : verbose output\r\n",
        "-c  --collection   : use files in this collection [only for MIREX 2007]\r\n",
        "-n  --normalize    : enable normalization\r\n",
        "-as --accSize      : accumulator size\r\n",
        "-cl --classifier   : classifier name\r\n",
        "-pr --predict      : predict class for files in collection\r\n",
        "-fe --featExtract  : only extract features\r\n",
        "-tc --test         : test collection\r\n",
        "-st --stereo       : use stereo feature extraction\r\n",
        "-ds --downsample   : downsampling factor\r\n",
        "-h  --help         : display this information \r\n",
        "-e  --extractor    : extractor \r\n",
        "-p  --plugin       : output plugin name \r\n",
        "-pm --pluginmute   : mute the plugin \r\n",
        "-csv --csvoutput   : output confidence values in sfplugin in csv format\r\n",
        "-pb --playback     : playback during feature extraction \r\n",
        "-s  --start        : playback start offset in seconds \r\n",
        "-sh --shuffle      : shuffle collection file before processing\r\n",
        "-l  --length       : playback length in seconds \r\n",
        "-m  --memory       : memory size \r\n",
        "-w  --wekafile     : weka .arff filename \r\n",
        "-od --outputdir    : output directory for output of files\r\n",
        "-ws --windowsize   : analysis window size in samples \r\n",
        "-hp --hopsize      : analysis hop size in samples \r\n",
        "-t  --timeline     : flag 2nd input collection as timelines for the 1st collection\r\n",
        "-os  --onlyStable  : only output 'stable' frames (silently omit the rest)\r\n",
        "-rg  --regression  : print regression labels instead of classification labels\r\n",
        "\r\n",
        "Available extractors: \r\n",
        "---------------------\r\n",
        "BEAT: Beat histogram features\r\n",
        "LPCC: LPC derived Cepstral coefficients \r\n",
        "LSP: Linear Spectral Pairs\r\n",
        "MFCC: Mel-frequency Cepstral Coefficients \r\n",
        "MPL_FILE: not yet implemented...\r\n",
        "REFACTORED: Dummy extractor for refactored bextract\r\n",
        "SCF: Spectral Crest Factor (MPEG-7)\r\n",
        "SFM: Spectral Flatness Measure (MPEG-7)\r\n",
        "SFMSCF: SCF and SFM features\r\n",
        "STFT: Centroid, Rolloff, Flux, ZeroCrossings \r\n",
        "STFTMFCC: Centroid, Rolloff Flux, ZeroCrossings, Mel-frequency Cepstral Coefficients\r\n",
        "\r\n",
        "NOTE:\r\n",
        "All extractors calculate means and variances over a memory size window\r\n",
        "SV can be appended in front of any extractor to extract a single vector (mean, variances) over a 30-second clip (for example SVSTFT) \r\n"
       ]
      }
     ],
     "prompt_number": 12
    },
    {
     "cell_type": "markdown",
     "metadata": {},
     "source": [
      "Only extract features (-fe) (i.e. no machine learning or plugin generation for classification), extract MFCCs (-mfcc), and output WEKA file *mfccs.arff*"
     ]
    },
    {
     "cell_type": "code",
     "collapsed": false,
     "input": [
      "!bextract -fe -mfcc -w mfcc.arff sources.mf"
     ],
     "language": "python",
     "metadata": {},
     "outputs": [
      {
       "output_type": "stream",
       "stream": "stdout",
       "text": [
        "\r\n",
        "Window Size (in samples): 512\r\n",
        "Hop Size (in samples): 512\r\n",
        "Memory Size (in analysis windows):20\r\n",
        "Accumulator size (in analysis windows):20000\r\n",
        "\r\n",
        "Extractor = REFACTORED\r\n",
        "\r\n",
        "collectionName = MARSYAS_EMPTY\r\n"
       ]
      },
      {
       "output_type": "stream",
       "stream": "stdout",
       "text": [
        "wekafname = MARSYAS_EMPTYmfcc.arff\r\n",
        "Downsampling factor = 1\r\n",
        "Processing: 0 - /home/andres/Documents/01 Documentos/06 Santa Barbara/Lectures/240E/ipython/sources/Dire Straits - Walk of life.wav\r\n"
       ]
      },
      {
       "output_type": "stream",
       "stream": "stdout",
       "text": [
        "Processing: 1 - /home/andres/Documents/01 Documentos/06 Santa Barbara/Lectures/240E/ipython/sources/passport.wav\r\n"
       ]
      },
      {
       "output_type": "stream",
       "stream": "stdout",
       "text": [
        "[MRS_WARNING] Unsupported format for file /home/andres/Documents/01 Documentos/06 Santa Barbara/Lectures/240E/ipython/sources/Dire Straits - Walk of life.mp3\r\n",
        "Processing: 2 - /home/andres/Documents/01 Documentos/06 Santa Barbara/Lectures/240E/ipython/sources/Dire Straits - Walk of life.mp3\r\n",
        "Processing: 3 - /home/andres/Documents/01 Documentos/06 Santa Barbara/Lectures/240E/ipython/sources/THX.wav\r\n"
       ]
      },
      {
       "output_type": "stream",
       "stream": "stdout",
       "text": [
        "[MRS_WARNING] Unsupported format for file /home/andres/Documents/01 Documentos/06 Santa Barbara/Lectures/240E/ipython/sources/Bob Dylan - Canadee-I-O.mp3\r\n",
        "Processing: 4 - /home/andres/Documents/01 Documentos/06 Santa Barbara/Lectures/240E/ipython/sources/Bob Dylan - Canadee-I-O.mp3\r\n",
        "[MRS_WARNING] Unsupported format for file /home/andres/Documents/01 Documentos/06 Santa Barbara/Lectures/240E/ipython/sources/Messiaen-Turangalila4.mp3\r\n",
        "Processing: 5 - /home/andres/Documents/01 Documentos/06 Santa Barbara/Lectures/240E/ipython/sources/Messiaen-Turangalila4.mp3\r\n",
        "[MRS_WARNING] Unsupported format for file /home/andres/Documents/01 Documentos/06 Santa Barbara/Lectures/240E/ipython/sources/04 - Brandenburg Concerto No. 5_ I. Allegro.mp3\r\n",
        "Processing: 6 - /home/andres/Documents/01 Documentos/06 Santa Barbara/Lectures/240E/ipython/sources/04 - Brandenburg Concerto No. 5_ I. Allegro.mp3\r\n",
        "Processing: 7 - /home/andres/Documents/01 Documentos/06 Santa Barbara/Lectures/240E/ipython/sources/180451__iluppai__alto-saxophone-solo.wav\r\n"
       ]
      },
      {
       "output_type": "stream",
       "stream": "stdout",
       "text": [
        "[MRS_WARNING] Unsupported format for file /home/andres/Documents/01 Documentos/06 Santa Barbara/Lectures/240E/ipython/sources/Led Zeppelin - Rock And Roll.mp3\r\n",
        "Processing: 8 - /home/andres/Documents/01 Documentos/06 Santa Barbara/Lectures/240E/ipython/sources/Led Zeppelin - Rock And Roll.mp3\r\n",
        "Processing: 9 - /home/andres/Documents/01 Documentos/06 Santa Barbara/Lectures/240E/ipython/sources/109193__juskiddink__leq-acappella.wav\r\n"
       ]
      },
      {
       "output_type": "stream",
       "stream": "stdout",
       "text": [
        "[MRS_WARNING] Unsupported format for file /home/andres/Documents/01 Documentos/06 Santa Barbara/Lectures/240E/ipython/sources/Isaac Hayes - Out Of The Ghetto.mp3\r\n",
        "Processing: 10 - /home/andres/Documents/01 Documentos/06 Santa Barbara/Lectures/240E/ipython/sources/Isaac Hayes - Out Of The Ghetto.mp3\r\n",
        "Processing: 11 - /home/andres/Documents/01 Documentos/06 Santa Barbara/Lectures/240E/ipython/sources/superstition.wav\r\n"
       ]
      },
      {
       "output_type": "stream",
       "stream": "stdout",
       "text": [
        "[MRS_WARNING] Unsupported format for file /home/andres/Documents/01 Documentos/06 Santa Barbara/Lectures/240E/ipython/sources/Palestrina-Gloria.mp3\r\n",
        "Processing: 12 - /home/andres/Documents/01 Documentos/06 Santa Barbara/Lectures/240E/ipython/sources/Palestrina-Gloria.mp3\r\n",
        "Processing: 13 - /home/andres/Documents/01 Documentos/06 Santa Barbara/Lectures/240E/ipython/sources/32804__johnwally__solo-man.wav\r\n"
       ]
      },
      {
       "output_type": "stream",
       "stream": "stdout",
       "text": [
        "[MRS_WARNING] Unsupported format for file /home/andres/Documents/01 Documentos/06 Santa Barbara/Lectures/240E/ipython/sources/Stevie Wonder - Superstition.mp3\r\n",
        "Processing: 14 - /home/andres/Documents/01 Documentos/06 Santa Barbara/Lectures/240E/ipython/sources/Stevie Wonder - Superstition.mp3\r\n",
        "[MRS_WARNING] Unsupported format for file /home/andres/Documents/01 Documentos/06 Santa Barbara/Lectures/240E/ipython/sources/Bob Marley - Buffalo Soldier.mp3\r\n",
        "Processing: 15 - /home/andres/Documents/01 Documentos/06 Santa Barbara/Lectures/240E/ipython/sources/Bob Marley - Buffalo Soldier.mp3\r\n",
        "Finished feature extraction\r\n"
       ]
      }
     ],
     "prompt_number": 14
    },
    {
     "cell_type": "code",
     "collapsed": false,
     "input": [
      "ls"
     ],
     "language": "python",
     "metadata": {},
     "outputs": [
      {
       "output_type": "stream",
       "stream": "stdout",
       "text": [
        "Audio Features IIIa-Pitch.ipynb~               Audio File IO.ipynb                 Graphing with pylab.ipynb   mfcc_python.arff   Python Basics.ipynb               testout.wav\r\n",
        "Audio Features IIIa-Tempo.ipynb                Beat_histogram.png                  MARSYAS_EMPTYMARSYAS_EMPTY  mfcc.sig           \u001b[0m\u001b[01;34msources\u001b[0m/                          wof_onsets.txt\r\n",
        "Audio Features IIIb-Pitch.ipynb                beat_hist.png                       MARSYAS_EMPTYmfcc.arff      ms.mpl             \u001b[01;34msources2\u001b[0m/                         wtk1-prelude1.mid\r\n",
        "Audio Features IIIb-Pitch.ipynb~               bextract_python.arff                MARSYAS_EMPTYms.arff        output.pdf         sources2.mf\r\n",
        "Audio Features II.ipynb~                       bextract_single.mf                  Marsyas.ipynb               outtest_scipy.wav  sources.mf\r\n",
        "Audio Features I.ipynb                         Dire Straits - Walk of life.output  mfccaggr.sig                out.txt            Symbolic MIR Using Music21.ipynb\r\n",
        "Audio Features II-Temporal and Spectral.ipynb  Feature summary and analysis.ipynb  mfccframes.txt              passport.wav       testout2.wav\r\n"
       ]
      }
     ],
     "prompt_number": 15
    },
    {
     "cell_type": "markdown",
     "metadata": {},
     "source": [
      "Now we need a WEKA file reader!\n",
      "\n",
      "http://www.cs.waikato.ac.nz/ml/weka/"
     ]
    },
    {
     "cell_type": "code",
     "collapsed": false,
     "input": [
      "import arff"
     ],
     "language": "python",
     "metadata": {},
     "outputs": [],
     "prompt_number": 16
    },
    {
     "cell_type": "markdown",
     "metadata": {},
     "source": [
      "You can get *arff* from [https://pypi.python.org/pypi/arff](https://pypi.python.org/pypi/arff) or by running:\n",
      "\n",
      "    sudo pip install arff"
     ]
    },
    {
     "cell_type": "code",
     "collapsed": false,
     "input": [
      "mfccs = arff.load('MARSYAS_EMPTYmfcc.arff')"
     ],
     "language": "python",
     "metadata": {},
     "outputs": [],
     "prompt_number": 17
    },
    {
     "cell_type": "markdown",
     "metadata": {},
     "source": [
      "This gets us a \"generator\" object"
     ]
    },
    {
     "cell_type": "code",
     "collapsed": false,
     "input": [
      "mfccs"
     ],
     "language": "python",
     "metadata": {},
     "outputs": [
      {
       "output_type": "pyout",
       "prompt_number": 18,
       "text": [
        "<generator object load at 0x2e36dc0>"
       ]
      }
     ],
     "prompt_number": 18
    },
    {
     "cell_type": "markdown",
     "metadata": {},
     "source": [
      "Which we need to turn into actual data:"
     ]
    },
    {
     "cell_type": "code",
     "collapsed": false,
     "input": [
      "mfccs = list(mfccs)"
     ],
     "language": "python",
     "metadata": {},
     "outputs": [],
     "prompt_number": 19
    },
    {
     "cell_type": "code",
     "collapsed": false,
     "input": [
      "len(mfccs)"
     ],
     "language": "python",
     "metadata": {},
     "outputs": [
      {
       "output_type": "pyout",
       "prompt_number": 20,
       "text": [
        "40354"
       ]
      }
     ],
     "prompt_number": 20
    },
    {
     "cell_type": "markdown",
     "metadata": {},
     "source": [
      "But then each element is a \"Row\" object!"
     ]
    },
    {
     "cell_type": "code",
     "collapsed": false,
     "input": [
      "mfccs[0]"
     ],
     "language": "python",
     "metadata": {},
     "outputs": [
      {
       "output_type": "pyout",
       "prompt_number": 21,
       "text": [
        "<Row(-107.487389,-0.057839,0.4933,-0.359472,1.67356,-1.379592,0.160211,-1.491901,-0.247348,-0.032178,0.610133,0.131942,-0.403637,0.0,0.0,0.0,0.0,0.0,0.0,0.0,0.0,0.0,0.0,0.0,0.0,0.0,'sources')>"
       ]
      }
     ],
     "prompt_number": 21
    },
    {
     "cell_type": "markdown",
     "metadata": {},
     "source": [
      "So it's actually better to do it like this:"
     ]
    },
    {
     "cell_type": "code",
     "collapsed": false,
     "input": [
      "mfccs = []\n",
      "for row in arff.load('MARSYAS_EMPTYmfcc.arff'):\n",
      "    mfccs.append(list(row)[1:14])"
     ],
     "language": "python",
     "metadata": {},
     "outputs": [],
     "prompt_number": 22
    },
    {
     "cell_type": "code",
     "collapsed": false,
     "input": [
      "imshow(array(mfccs).T, aspect='auto', interpolation='nearest')"
     ],
     "language": "python",
     "metadata": {},
     "outputs": [
      {
       "output_type": "pyout",
       "prompt_number": 23,
       "text": [
        "<matplotlib.image.AxesImage at 0x3179590>"
       ]
      },
      {
       "output_type": "display_data",
       "png": "[encoded data removed]"
      }
     ],
     "prompt_number": 23
    },
    {
     "cell_type": "markdown",
     "metadata": {},
     "source": [
      "Notice that these are the MFCCs for all pieces combined together!\n",
      "\n",
      "This makes sense as these MFCCs are meant as training data for a classifier (i.e. it doesn't matter where they come from, they belong to the same category)\n",
      "\n",
      "To create a classification \"plugin\":"
     ]
    },
    {
     "cell_type": "code",
     "collapsed": false,
     "input": [
      "!bextract sources.mf -w ms.arff -p ms.mpl -cl GS"
     ],
     "language": "python",
     "metadata": {},
     "outputs": [
      {
       "output_type": "stream",
       "stream": "stdout",
       "text": [
        "\r\n",
        "Window Size (in samples): 512\r\n",
        "Hop Size (in samples): 512\r\n",
        "Memory Size (in analysis windows):20\r\n",
        "Accumulator size (in analysis windows):20000\r\n",
        "\r\n",
        "Extractor = REFACTORED\r\n",
        "\r\n",
        "collectionName = MARSYAS_EMPTY\r\n"
       ]
      },
      {
       "output_type": "stream",
       "stream": "stdout",
       "text": [
        "wekafname = MARSYAS_EMPTYms.arff\r\n",
        "classifierName = GS\r\n",
        "Downsampling factor = 1\r\n"
       ]
      },
      {
       "output_type": "stream",
       "stream": "stdout",
       "text": [
        "Processing: 0 - /home/andres/Documents/01 Documentos/06 Santa Barbara/Lectures/240E/ipython/sources/Dire Straits - Walk of life.wav\r\n"
       ]
      },
      {
       "output_type": "stream",
       "stream": "stdout",
       "text": [
        "Processing: 1 - /home/andres/Documents/01 Documentos/06 Santa Barbara/Lectures/240E/ipython/sources/passport.wav\r\n"
       ]
      },
      {
       "output_type": "stream",
       "stream": "stdout",
       "text": [
        "[MRS_WARNING] Unsupported format for file /home/andres/Documents/01 Documentos/06 Santa Barbara/Lectures/240E/ipython/sources/Dire Straits - Walk of life.mp3\r\n",
        "Processing: 2 - /home/andres/Documents/01 Documentos/06 Santa Barbara/Lectures/240E/ipython/sources/Dire Straits - Walk of life.mp3\r\n",
        "Processing: 3 - /home/andres/Documents/01 Documentos/06 Santa Barbara/Lectures/240E/ipython/sources/THX.wav\r\n"
       ]
      },
      {
       "output_type": "stream",
       "stream": "stdout",
       "text": [
        "[MRS_WARNING] Unsupported format for file /home/andres/Documents/01 Documentos/06 Santa Barbara/Lectures/240E/ipython/sources/Bob Dylan - Canadee-I-O.mp3\r\n",
        "Processing: 4 - /home/andres/Documents/01 Documentos/06 Santa Barbara/Lectures/240E/ipython/sources/Bob Dylan - Canadee-I-O.mp3\r\n",
        "[MRS_WARNING] Unsupported format for file /home/andres/Documents/01 Documentos/06 Santa Barbara/Lectures/240E/ipython/sources/Messiaen-Turangalila4.mp3\r\n",
        "Processing: 5 - /home/andres/Documents/01 Documentos/06 Santa Barbara/Lectures/240E/ipython/sources/Messiaen-Turangalila4.mp3\r\n",
        "[MRS_WARNING] Unsupported format for file /home/andres/Documents/01 Documentos/06 Santa Barbara/Lectures/240E/ipython/sources/04 - Brandenburg Concerto No. 5_ I. Allegro.mp3\r\n",
        "Processing: 6 - /home/andres/Documents/01 Documentos/06 Santa Barbara/Lectures/240E/ipython/sources/04 - Brandenburg Concerto No. 5_ I. Allegro.mp3\r\n",
        "Processing: 7 - /home/andres/Documents/01 Documentos/06 Santa Barbara/Lectures/240E/ipython/sources/180451__iluppai__alto-saxophone-solo.wav\r\n"
       ]
      },
      {
       "output_type": "stream",
       "stream": "stdout",
       "text": [
        "[MRS_WARNING] Unsupported format for file /home/andres/Documents/01 Documentos/06 Santa Barbara/Lectures/240E/ipython/sources/Led Zeppelin - Rock And Roll.mp3\r\n",
        "Processing: 8 - /home/andres/Documents/01 Documentos/06 Santa Barbara/Lectures/240E/ipython/sources/Led Zeppelin - Rock And Roll.mp3\r\n",
        "Processing: 9 - /home/andres/Documents/01 Documentos/06 Santa Barbara/Lectures/240E/ipython/sources/109193__juskiddink__leq-acappella.wav\r\n"
       ]
      },
      {
       "output_type": "stream",
       "stream": "stdout",
       "text": [
        "[MRS_WARNING] Unsupported format for file /home/andres/Documents/01 Documentos/06 Santa Barbara/Lectures/240E/ipython/sources/Isaac Hayes - Out Of The Ghetto.mp3\r\n",
        "Processing: 10 - /home/andres/Documents/01 Documentos/06 Santa Barbara/Lectures/240E/ipython/sources/Isaac Hayes - Out Of The Ghetto.mp3\r\n",
        "Processing: 11 - /home/andres/Documents/01 Documentos/06 Santa Barbara/Lectures/240E/ipython/sources/superstition.wav\r\n"
       ]
      },
      {
       "output_type": "stream",
       "stream": "stdout",
       "text": [
        "[MRS_WARNING] Unsupported format for file /home/andres/Documents/01 Documentos/06 Santa Barbara/Lectures/240E/ipython/sources/Palestrina-Gloria.mp3\r\n",
        "Processing: 12 - /home/andres/Documents/01 Documentos/06 Santa Barbara/Lectures/240E/ipython/sources/Palestrina-Gloria.mp3\r\n",
        "Processing: 13 - /home/andres/Documents/01 Documentos/06 Santa Barbara/Lectures/240E/ipython/sources/32804__johnwally__solo-man.wav\r\n"
       ]
      },
      {
       "output_type": "stream",
       "stream": "stdout",
       "text": [
        "[MRS_WARNING] Unsupported format for file /home/andres/Documents/01 Documentos/06 Santa Barbara/Lectures/240E/ipython/sources/Stevie Wonder - Superstition.mp3\r\n",
        "Processing: 14 - /home/andres/Documents/01 Documentos/06 Santa Barbara/Lectures/240E/ipython/sources/Stevie Wonder - Superstition.mp3\r\n",
        "[MRS_WARNING] Unsupported format for file /home/andres/Documents/01 Documentos/06 Santa Barbara/Lectures/240E/ipython/sources/Bob Marley - Buffalo Soldier.mp3\r\n",
        "Processing: 15 - /home/andres/Documents/01 Documentos/06 Santa Barbara/Lectures/240E/ipython/sources/Bob Marley - Buffalo Soldier.mp3\r\n",
        "Finished feature extraction\r\n",
        "Finished classifier training\r\n"
       ]
      }
     ],
     "prompt_number": 24
    },
    {
     "cell_type": "markdown",
     "metadata": {},
     "source": [
      "Now we have a plugin called *ms.mpl*.\n",
      "\n",
      "To use it:"
     ]
    },
    {
     "cell_type": "code",
     "collapsed": false,
     "input": [
      "ls"
     ],
     "language": "python",
     "metadata": {},
     "outputs": [
      {
       "output_type": "stream",
       "stream": "stdout",
       "text": [
        "Audio Features IIIa-Pitch.ipynb~               Audio File IO.ipynb                 Graphing with pylab.ipynb   mfcc_python.arff   Python Basics.ipynb               testout.wav\r\n",
        "Audio Features IIIa-Tempo.ipynb                Beat_histogram.png                  MARSYAS_EMPTYMARSYAS_EMPTY  mfcc.sig           \u001b[0m\u001b[01;34msources\u001b[0m/                          wof_onsets.txt\r\n",
        "Audio Features IIIb-Pitch.ipynb                beat_hist.png                       MARSYAS_EMPTYmfcc.arff      ms.mpl             \u001b[01;34msources2\u001b[0m/                         wtk1-prelude1.mid\r\n",
        "Audio Features IIIb-Pitch.ipynb~               bextract_python.arff                MARSYAS_EMPTYms.arff        output.pdf         sources2.mf\r\n",
        "Audio Features II.ipynb~                       bextract_single.mf                  Marsyas.ipynb               outtest_scipy.wav  sources.mf\r\n",
        "Audio Features I.ipynb                         Dire Straits - Walk of life.output  mfccaggr.sig                out.txt            Symbolic MIR Using Music21.ipynb\r\n",
        "Audio Features II-Temporal and Spectral.ipynb  Feature summary and analysis.ipynb  mfccframes.txt              passport.wav       testout2.wav\r\n"
       ]
      }
     ],
     "prompt_number": 25
    },
    {
     "cell_type": "code",
     "collapsed": false,
     "input": [
      "!sfplugin -h"
     ],
     "language": "python",
     "metadata": {},
     "outputs": [
      {
       "output_type": "stream",
       "stream": "stdout",
       "text": [
        "sfplugin, MARSYAS, Copyright George Tzanetakis \r\n",
        "--------------------------------------------\r\n",
        "Prints information about the sound files provided as arguments \r\n",
        "\r\n",
        "Usage : sfplugin[-c collection] file1 file2 file3\r\n",
        "\r\n",
        "where file1, ..., fileN are sound files in a Marsyas supported format\r\n",
        "Help Options:\r\n",
        "-u --usage       : display short usage info\r\n",
        "-h --help        : display this information \r\n",
        "-v --verbose     : verbose output \r\n",
        "-g --gain        : linear volume gain \r\n",
        "-sa --start      : playback start offset in seconds \r\n",
        "-ln --length     : playback length in seconds \r\n",
        "-pl --plugin     : plugin file \r\n",
        "-o --output      : output file \r\n",
        "-r --repetitions : number of repetitions \r\n",
        "-pm --pluginMute : don't play audio \r\n",
        "[MRSERR] Unknown MarSystemType\r\n",
        "[MRSERR] skipstr = \r\n",
        "Manager could not load MarSystem from plugin file\r\n"
       ]
      }
     ],
     "prompt_number": 26
    },
    {
     "cell_type": "code",
     "collapsed": false,
     "input": [
      "!sfplugin -pl ms.mpl sources/superstition.wav"
     ],
     "language": "python",
     "metadata": {},
     "outputs": [
      {
       "output_type": "stream",
       "stream": "stdout",
       "text": [
        "[MRS_WARNING] AudioSink: buffer underrun!\r\n"
       ]
      },
      {
       "output_type": "stream",
       "stream": "stdout",
       "text": [
        "0.000\tPR = sources\t100\t1.0000\t GT = sources\r\n"
       ]
      },
      {
       "output_type": "stream",
       "stream": "stdout",
       "text": [
        "0.464\tPR = sources\t100\t1.0000\t GT = sources\r\n"
       ]
      },
      {
       "output_type": "stream",
       "stream": "stdout",
       "text": [
        "0.929\tPR = sources\t100\t1.0000\t GT = sources\r\n"
       ]
      },
      {
       "output_type": "stream",
       "stream": "stdout",
       "text": [
        "1.393\tPR = sources\t100\t1.0000\t GT = sources\r\n"
       ]
      },
      {
       "output_type": "stream",
       "stream": "stdout",
       "text": [
        "1.858\tPR = sources\t100\t1.0000\t GT = sources\r\n"
       ]
      },
      {
       "output_type": "stream",
       "stream": "stdout",
       "text": [
        "2.322\tPR = sources\t100\t1.0000\t GT = sources\r\n"
       ]
      },
      {
       "output_type": "stream",
       "stream": "stdout",
       "text": [
        "2.786\tPR = sources\t100\t1.0000\t GT = sources\r\n"
       ]
      },
      {
       "output_type": "stream",
       "stream": "stdout",
       "text": [
        "3.251\tPR = sources\t100\t1.0000\t GT = sources\r\n"
       ]
      },
      {
       "output_type": "stream",
       "stream": "stdout",
       "text": [
        "3.715\tPR = sources\t100\t1.0000\t GT = sources\r\n"
       ]
      },
      {
       "output_type": "stream",
       "stream": "stdout",
       "text": [
        "4.180\tPR = sources\t100\t1.0000\t GT = sources\r\n"
       ]
      },
      {
       "output_type": "stream",
       "stream": "stdout",
       "text": [
        "4.644\tPR = sources\t100\t1.0000\t GT = sources\r\n"
       ]
      },
      {
       "output_type": "stream",
       "stream": "stdout",
       "text": [
        "5.108\tPR = sources\t100\t1.0000\t GT = sources\r\n"
       ]
      },
      {
       "output_type": "stream",
       "stream": "stdout",
       "text": [
        "5.573\tPR = sources\t100\t1.0000\t GT = sources\r\n"
       ]
      },
      {
       "output_type": "stream",
       "stream": "stdout",
       "text": [
        "6.037\tPR = sources\t100\t1.0000\t GT = sources\r\n"
       ]
      },
      {
       "output_type": "stream",
       "stream": "stdout",
       "text": [
        "6.502\tPR = sources\t100\t1.0000\t GT = sources\r\n"
       ]
      },
      {
       "output_type": "stream",
       "stream": "stdout",
       "text": [
        "^C\r\n"
       ]
      }
     ],
     "prompt_number": 27
    },
    {
     "cell_type": "code",
     "collapsed": false,
     "input": [
      "!mkcollection -c sources2.mf -l sources2 \"/home/andres/Documents/01 Documentos/06 Santa Barbara/Lectures/240E/ipython/sources2/\""
     ],
     "language": "python",
     "metadata": {},
     "outputs": [
      {
       "output_type": "stream",
       "stream": "stdout",
       "text": [
        "Writing collectionName = sources2 into file sources2.mf\r\n",
        "Adding Contents of Directory = /home/andres/Documents/01 Documentos/06 Santa Barbara/Lectures/240E/ipython/sources2/\r\n",
        " to collection sources2.mf\r\n",
        "Adding directory entry turangalila_excerpt.wav\r\n",
        "Wrote collection sources2.mf\r\n"
       ]
      }
     ],
     "prompt_number": 28
    },
    {
     "cell_type": "code",
     "collapsed": false,
     "input": [
      "!bextract sources.mf sources2.mf -p ms.mpl -cl GS"
     ],
     "language": "python",
     "metadata": {},
     "outputs": [
      {
       "output_type": "stream",
       "stream": "stdout",
       "text": [
        "\r\n",
        "Window Size (in samples): 512\r\n",
        "Hop Size (in samples): 512\r\n",
        "Memory Size (in analysis windows):20\r\n",
        "Accumulator size (in analysis windows):20000\r\n",
        "\r\n",
        "Extractor = REFACTORED\r\n",
        "\r\n",
        "collectionName = MARSYAS_EMPTY\r\n",
        "wekafname = MARSYAS_EMPTYMARSYAS_EMPTY\r\n"
       ]
      },
      {
       "output_type": "stream",
       "stream": "stdout",
       "text": [
        "classifierName = GS\r\n",
        "Downsampling factor = 1\r\n",
        "Processing: 0 - /home/andres/Documents/01 Documentos/06 Santa Barbara/Lectures/240E/ipython/sources/Dire Straits - Walk of life.wav\r\n"
       ]
      },
      {
       "output_type": "stream",
       "stream": "stdout",
       "text": [
        "Processing: 1 - /home/andres/Documents/01 Documentos/06 Santa Barbara/Lectures/240E/ipython/sources/passport.wav\r\n"
       ]
      },
      {
       "output_type": "stream",
       "stream": "stdout",
       "text": [
        "[MRS_WARNING] Unsupported format for file /home/andres/Documents/01 Documentos/06 Santa Barbara/Lectures/240E/ipython/sources/Dire Straits - Walk of life.mp3\r\n",
        "Processing: 2 - /home/andres/Documents/01 Documentos/06 Santa Barbara/Lectures/240E/ipython/sources/Dire Straits - Walk of life.mp3\r\n",
        "Processing: 3 - /home/andres/Documents/01 Documentos/06 Santa Barbara/Lectures/240E/ipython/sources/THX.wav\r\n"
       ]
      },
      {
       "output_type": "stream",
       "stream": "stdout",
       "text": [
        "[MRS_WARNING] Unsupported format for file /home/andres/Documents/01 Documentos/06 Santa Barbara/Lectures/240E/ipython/sources/Bob Dylan - Canadee-I-O.mp3\r\n",
        "Processing: 4 - /home/andres/Documents/01 Documentos/06 Santa Barbara/Lectures/240E/ipython/sources/Bob Dylan - Canadee-I-O.mp3\r\n",
        "[MRS_WARNING] Unsupported format for file /home/andres/Documents/01 Documentos/06 Santa Barbara/Lectures/240E/ipython/sources/Messiaen-Turangalila4.mp3\r\n",
        "Processing: 5 - /home/andres/Documents/01 Documentos/06 Santa Barbara/Lectures/240E/ipython/sources/Messiaen-Turangalila4.mp3\r\n",
        "[MRS_WARNING] Unsupported format for file /home/andres/Documents/01 Documentos/06 Santa Barbara/Lectures/240E/ipython/sources/04 - Brandenburg Concerto No. 5_ I. Allegro.mp3\r\n",
        "Processing: 6 - /home/andres/Documents/01 Documentos/06 Santa Barbara/Lectures/240E/ipython/sources/04 - Brandenburg Concerto No. 5_ I. Allegro.mp3\r\n",
        "Processing: 7 - /home/andres/Documents/01 Documentos/06 Santa Barbara/Lectures/240E/ipython/sources/180451__iluppai__alto-saxophone-solo.wav\r\n"
       ]
      },
      {
       "output_type": "stream",
       "stream": "stdout",
       "text": [
        "[MRS_WARNING] Unsupported format for file /home/andres/Documents/01 Documentos/06 Santa Barbara/Lectures/240E/ipython/sources/Led Zeppelin - Rock And Roll.mp3\r\n",
        "Processing: 8 - /home/andres/Documents/01 Documentos/06 Santa Barbara/Lectures/240E/ipython/sources/Led Zeppelin - Rock And Roll.mp3\r\n",
        "Processing: 9 - /home/andres/Documents/01 Documentos/06 Santa Barbara/Lectures/240E/ipython/sources/109193__juskiddink__leq-acappella.wav\r\n"
       ]
      },
      {
       "output_type": "stream",
       "stream": "stdout",
       "text": [
        "[MRS_WARNING] Unsupported format for file /home/andres/Documents/01 Documentos/06 Santa Barbara/Lectures/240E/ipython/sources/Isaac Hayes - Out Of The Ghetto.mp3\r\n",
        "Processing: 10 - /home/andres/Documents/01 Documentos/06 Santa Barbara/Lectures/240E/ipython/sources/Isaac Hayes - Out Of The Ghetto.mp3\r\n",
        "Processing: 11 - /home/andres/Documents/01 Documentos/06 Santa Barbara/Lectures/240E/ipython/sources/superstition.wav\r\n"
       ]
      },
      {
       "output_type": "stream",
       "stream": "stdout",
       "text": [
        "[MRS_WARNING] Unsupported format for file /home/andres/Documents/01 Documentos/06 Santa Barbara/Lectures/240E/ipython/sources/Palestrina-Gloria.mp3\r\n",
        "Processing: 12 - /home/andres/Documents/01 Documentos/06 Santa Barbara/Lectures/240E/ipython/sources/Palestrina-Gloria.mp3\r\n",
        "Processing: 13 - /home/andres/Documents/01 Documentos/06 Santa Barbara/Lectures/240E/ipython/sources/32804__johnwally__solo-man.wav\r\n"
       ]
      },
      {
       "output_type": "stream",
       "stream": "stdout",
       "text": [
        "[MRS_WARNING] Unsupported format for file /home/andres/Documents/01 Documentos/06 Santa Barbara/Lectures/240E/ipython/sources/Stevie Wonder - Superstition.mp3\r\n",
        "Processing: 14 - /home/andres/Documents/01 Documentos/06 Santa Barbara/Lectures/240E/ipython/sources/Stevie Wonder - Superstition.mp3\r\n",
        "[MRS_WARNING] Unsupported format for file /home/andres/Documents/01 Documentos/06 Santa Barbara/Lectures/240E/ipython/sources/Bob Marley - Buffalo Soldier.mp3\r\n",
        "Processing: 15 - /home/andres/Documents/01 Documentos/06 Santa Barbara/Lectures/240E/ipython/sources/Bob Marley - Buffalo Soldier.mp3\r\n",
        "Processing: 16 - /home/andres/Documents/01 Documentos/06 Santa Barbara/Lectures/240E/ipython/sources2/turangalila_excerpt.wav\r\n"
       ]
      },
      {
       "output_type": "stream",
       "stream": "stdout",
       "text": [
        "Finished feature extraction\r\n",
        "Finished classifier training\r\n"
       ]
      }
     ],
     "prompt_number": 29
    },
    {
     "cell_type": "code",
     "collapsed": false,
     "input": [
      "!sfplugin -pl ms.mpl sources2/turangalila_excerpt.wav"
     ],
     "language": "python",
     "metadata": {},
     "outputs": [
      {
       "output_type": "stream",
       "stream": "stdout",
       "text": [
        "[MRS_WARNING] AudioSink: buffer underrun!\r\n"
       ]
      },
      {
       "output_type": "stream",
       "stream": "stdout",
       "text": [
        "0.000\tPR = sources\t100\t1.0000\t GT = sources\r\n"
       ]
      },
      {
       "output_type": "stream",
       "stream": "stdout",
       "text": [
        "0.464\tPR = sources\t100\t1.0000\t GT = sources\r\n"
       ]
      },
      {
       "output_type": "stream",
       "stream": "stdout",
       "text": [
        "0.929\tPR = sources\t100\t1.0000\t GT = sources\r\n"
       ]
      },
      {
       "output_type": "stream",
       "stream": "stdout",
       "text": [
        "1.393\tPR = sources\t100\t1.0000\t GT = sources\r\n"
       ]
      },
      {
       "output_type": "stream",
       "stream": "stdout",
       "text": [
        "1.858\tPR = sources\t100\t1.0000\t GT = sources\r\n"
       ]
      },
      {
       "output_type": "stream",
       "stream": "stdout",
       "text": [
        "2.322\tPR = sources\t52\t1.0000\t GT = sources\r\n"
       ]
      },
      {
       "output_type": "stream",
       "stream": "stdout",
       "text": [
        "2.786\tPR = sources2\t100\t0.8571\t GT = sources\r\n"
       ]
      },
      {
       "output_type": "stream",
       "stream": "stdout",
       "text": [
        "3.251\tPR = sources2\t100\t0.7500\t GT = sources\r\n"
       ]
      },
      {
       "output_type": "stream",
       "stream": "stdout",
       "text": [
        "3.715\tPR = sources2\t57\t0.6667\t GT = sources\r\n"
       ]
      },
      {
       "output_type": "stream",
       "stream": "stdout",
       "text": [
        "4.180\tPR = sources2\t68\t0.6000\t GT = sources\r\n"
       ]
      },
      {
       "output_type": "stream",
       "stream": "stdout",
       "text": [
        "4.644\tPR = sources2\t70\t0.5455\t GT = sources\r\n"
       ]
      },
      {
       "output_type": "stream",
       "stream": "stdout",
       "text": [
        "5.108\tPR = sources2\t100\t0.5000\t GT = sources\r\n"
       ]
      },
      {
       "output_type": "stream",
       "stream": "stdout",
       "text": [
        "5.573\tPR = sources2\t100\t0.4615\t GT = sources\r\n"
       ]
      },
      {
       "output_type": "stream",
       "stream": "stdout",
       "text": [
        "6.037\tPR = sources2\t100\t0.4286\t GT = sources\r\n"
       ]
      },
      {
       "output_type": "stream",
       "stream": "stdout",
       "text": [
        "6.502\tPR = sources2\t85\t0.4000\t GT = sources\r\n"
       ]
      },
      {
       "output_type": "stream",
       "stream": "stdout",
       "text": [
        "6.966\tPR = sources\t80\t0.4375\t GT = sources\r\n"
       ]
      },
      {
       "output_type": "stream",
       "stream": "stdout",
       "text": [
        "7.430\tPR = sources\t65\t0.4706\t GT = sources\r\n"
       ]
      },
      {
       "output_type": "stream",
       "stream": "stdout",
       "text": [
        "7.895\tPR = sources2\t90\t0.4444\t GT = sources\r\n"
       ]
      },
      {
       "output_type": "stream",
       "stream": "stdout",
       "text": [
        "8.359\tPR = sources2\t68\t0.4211\t GT = sources\r\n"
       ]
      },
      {
       "output_type": "stream",
       "stream": "stdout",
       "text": [
        "8.824\tPR = sources2\t100\t0.4000\t GT = sources\r\n"
       ]
      },
      {
       "output_type": "stream",
       "stream": "stdout",
       "text": [
        "9.288\tPR = sources\t57\t0.4286\t GT = sources\r\n"
       ]
      },
      {
       "output_type": "stream",
       "stream": "stdout",
       "text": [
        "9.752\tPR = sources2\t98\t0.4091\t GT = sources\r\n"
       ]
      },
      {
       "output_type": "stream",
       "stream": "stdout",
       "text": [
        "10.217\tPR = sources2\t100\t0.3913\t GT = sources\r\n"
       ]
      },
      {
       "output_type": "stream",
       "stream": "stdout",
       "text": [
        "10.681\tPR = sources2\t60\t0.3750\t GT = sources\r\n"
       ]
      },
      {
       "output_type": "stream",
       "stream": "stdout",
       "text": [
        "11.146\tPR = sources2\t100\t0.3600\t GT = sources\r\n"
       ]
      },
      {
       "output_type": "stream",
       "stream": "stdout",
       "text": [
        "11.610\tPR = sources2\t88\t0.3462\t GT = sources\r\n"
       ]
      },
      {
       "output_type": "stream",
       "stream": "stdout",
       "text": [
        "12.074\tPR = sources2\t100\t0.3333\t GT = sources\r\n"
       ]
      },
      {
       "output_type": "stream",
       "stream": "stdout",
       "text": [
        "12.539\tPR = sources2\t70\t0.3214\t GT = sources\r\n"
       ]
      },
      {
       "output_type": "stream",
       "stream": "stdout",
       "text": [
        "13.003\tPR = sources\t72\t0.3448\t GT = sources\r\n"
       ]
      },
      {
       "output_type": "stream",
       "stream": "stdout",
       "text": [
        "^C\r\n"
       ]
      }
     ],
     "prompt_number": 30
    },
    {
     "cell_type": "code",
     "collapsed": false,
     "input": [
      "!sfplugin -pl ms.mpl sources/passport.wav"
     ],
     "language": "python",
     "metadata": {},
     "outputs": [
      {
       "output_type": "stream",
       "stream": "stdout",
       "text": [
        "[MRS_WARNING] AudioSink: buffer underrun!\r\n"
       ]
      },
      {
       "output_type": "stream",
       "stream": "stdout",
       "text": [
        "0.000\tPR = sources\t100\t1.0000\t GT = sources\r\n"
       ]
      },
      {
       "output_type": "stream",
       "stream": "stdout",
       "text": [
        "0.464\tPR = sources\t100\t1.0000\t GT = sources\r\n"
       ]
      },
      {
       "output_type": "stream",
       "stream": "stdout",
       "text": [
        "0.929\tPR = sources\t100\t1.0000\t GT = sources\r\n"
       ]
      },
      {
       "output_type": "stream",
       "stream": "stdout",
       "text": [
        "1.393\tPR = sources\t100\t1.0000\t GT = sources\r\n"
       ]
      },
      {
       "output_type": "stream",
       "stream": "stdout",
       "text": [
        "1.858\tPR = sources\t100\t1.0000\t GT = sources\r\n"
       ]
      },
      {
       "output_type": "stream",
       "stream": "stdout",
       "text": [
        "2.322\tPR = sources\t100\t1.0000\t GT = sources\r\n"
       ]
      },
      {
       "output_type": "stream",
       "stream": "stdout",
       "text": [
        "2.786\tPR = sources\t100\t1.0000\t GT = sources\r\n"
       ]
      },
      {
       "output_type": "stream",
       "stream": "stdout",
       "text": [
        "3.251\tPR = sources\t100\t1.0000\t GT = sources\r\n"
       ]
      },
      {
       "output_type": "stream",
       "stream": "stdout",
       "text": [
        "3.715\tPR = sources\t100\t1.0000\t GT = sources\r\n"
       ]
      },
      {
       "output_type": "stream",
       "stream": "stdout",
       "text": [
        "4.180\tPR = sources\t100\t1.0000\t GT = sources\r\n"
       ]
      },
      {
       "output_type": "stream",
       "stream": "stdout",
       "text": [
        "4.644\tPR = sources\t100\t1.0000\t GT = sources\r\n"
       ]
      },
      {
       "output_type": "stream",
       "stream": "stdout",
       "text": [
        "5.108\tPR = sources\t100\t1.0000\t GT = sources\r\n"
       ]
      },
      {
       "output_type": "stream",
       "stream": "stdout",
       "text": [
        "5.573\tPR = sources\t100\t1.0000\t GT = sources\r\n"
       ]
      },
      {
       "output_type": "stream",
       "stream": "stdout",
       "text": [
        "6.037\tPR = sources\t100\t1.0000\t GT = sources\r\n"
       ]
      },
      {
       "output_type": "stream",
       "stream": "stdout",
       "text": [
        "6.502\tPR = sources\t100\t1.0000\t GT = sources\r\n"
       ]
      },
      {
       "output_type": "stream",
       "stream": "stdout",
       "text": [
        "6.966\tPR = sources\t100\t1.0000\t GT = sources\r\n"
       ]
      }
     ],
     "prompt_number": 32
    },
    {
     "cell_type": "heading",
     "level": 1,
     "metadata": {},
     "source": [
      "Using the Marsyas API"
     ]
    },
    {
     "cell_type": "markdown",
     "metadata": {},
     "source": [
      "Marsyas is stream-based/declarative, so you connect modules in a graph which you then run."
     ]
    },
    {
     "cell_type": "code",
     "collapsed": false,
     "input": [
      "import marsyas"
     ],
     "language": "python",
     "metadata": {},
     "outputs": [],
     "prompt_number": 33
    },
    {
     "cell_type": "code",
     "collapsed": false,
     "input": [
      "mng = marsyas.MarSystemManager()\n",
      "fnet = mng.create(\"Series\", \"featureNetwork\")\n",
      "\n",
      "# functional short cuts to speed up typing \n",
      "create = mng.create\n",
      "add = fnet.addMarSystem \n",
      "link = fnet.linkControl\n",
      "upd = fnet.updControl\n",
      "get  = fnet.getControl\n",
      "\n",
      "# Add the MarSystems \n",
      "add(create(\"SoundFileSource\", \"src\"))\n",
      "add(create(\"TimbreFeatures\", \"featExtractor\"))\n",
      "add(create(\"TextureStats\", \"tStats\"))\n",
      "add(create(\"Annotator\", \"annotator\"))\n",
      "add(create(\"WekaSink\", \"wsink\"))\n",
      "\n",
      "# link the controls to coordinate things\n",
      "link(\"mrs_string/filename\", \"SoundFileSource/src/mrs_string/filename\")\n",
      "link(\"mrs_bool/hasData\", \"SoundFileSource/src/mrs_bool/hasData\")\n",
      "link(\"WekaSink/wsink/mrs_string/currentlyPlaying\",\"SoundFileSource/src/mrs_string/currentlyPlaying\")\n",
      "link(\"Annotator/annotator/mrs_natural/label\", \"SoundFileSource/src/mrs_natural/currentLabel\")\n",
      "link(\"SoundFileSource/src/mrs_natural/nLabels\", \"WekaSink/wsink/mrs_natural/nLabels\")\n",
      "\n",
      "# update controls to setup things \n",
      "upd(\"TimbreFeatures/featExtractor/mrs_string/disableTDChild\", marsyas.MarControlPtr.from_string(\"all\"))\n",
      "upd(\"TimbreFeatures/featExtractor/mrs_string/disableLPCChild\", marsyas.MarControlPtr.from_string(\"all\"))\n",
      "upd(\"TimbreFeatures/featExtractor/mrs_string/disableSPChild\", marsyas.MarControlPtr.from_string(\"all\"))\n",
      "upd(\"TimbreFeatures/featExtractor/mrs_string/enableSPChild\", marsyas.MarControlPtr.from_string(\"MFCC/mfcc\"))\n",
      "upd(\"mrs_string/filename\", marsyas.MarControlPtr.from_string(\"sources.mf\"))\n",
      "upd(\"WekaSink/wsink/mrs_string/labelNames\", \n",
      "\t\t\t  get(\"SoundFileSource/src/mrs_string/labelNames\"))\n",
      "upd(\"WekaSink/wsink/mrs_string/filename\", marsyas.MarControlPtr.from_string(\"mfcc_python.arff\"))\n",
      "\n",
      "# do the processing extracting MFCC features and writing to weka file \n",
      "previouslyPlaying = \"\"\n",
      "while get(\"SoundFileSource/src/mrs_bool/hasData\").to_bool():\n",
      "\tcurrentlyPlaying = get(\"SoundFileSource/src/mrs_string/currentlyPlaying\").to_string()\n",
      "\tif (currentlyPlaying != previouslyPlaying):\n",
      "\t\tprint \"Processing: \" +  get(\"SoundFileSource/src/mrs_string/currentlyPlaying\").to_string()\n",
      "\t\t\n",
      "\tfnet.tick()\n",
      "\t\n",
      "\tpreviouslyPlaying = currentlyPlaying"
     ],
     "language": "python",
     "metadata": {},
     "outputs": [
      {
       "output_type": "stream",
       "stream": "stdout",
       "text": [
        "Processing: /home/andres/Documents/01 Documentos/06 Santa Barbara/Lectures/240E/ipython/sources/Dire Straits - Walk of life.wav"
       ]
      },
      {
       "output_type": "stream",
       "stream": "stdout",
       "text": [
        "\n",
        "Processing: /home/andres/Documents/01 Documentos/06 Santa Barbara/Lectures/240E/ipython/sources/passport.wav"
       ]
      },
      {
       "output_type": "stream",
       "stream": "stdout",
       "text": [
        "\n",
        "Processing: /home/andres/Documents/01 Documentos/06 Santa Barbara/Lectures/240E/ipython/sources/Dire Straits - Walk of life.mp3"
       ]
      },
      {
       "output_type": "stream",
       "stream": "stdout",
       "text": [
        "\n",
        "Processing: /home/andres/Documents/01 Documentos/06 Santa Barbara/Lectures/240E/ipython/sources/THX.wav\n",
        "Processing: /home/andres/Documents/01 Documentos/06 Santa Barbara/Lectures/240E/ipython/sources/Bob Dylan - Canadee-I-O.mp3"
       ]
      },
      {
       "output_type": "stream",
       "stream": "stdout",
       "text": [
        "\n",
        "Processing: /home/andres/Documents/01 Documentos/06 Santa Barbara/Lectures/240E/ipython/sources/Messiaen-Turangalila4.mp3\n",
        "Processing: /home/andres/Documents/01 Documentos/06 Santa Barbara/Lectures/240E/ipython/sources/04 - Brandenburg Concerto No. 5_ I. Allegro.mp3\n",
        "Processing: /home/andres/Documents/01 Documentos/06 Santa Barbara/Lectures/240E/ipython/sources/180451__iluppai__alto-saxophone-solo.wav\n",
        "Processing: /home/andres/Documents/01 Documentos/06 Santa Barbara/Lectures/240E/ipython/sources/Led Zeppelin - Rock And Roll.mp3"
       ]
      },
      {
       "output_type": "stream",
       "stream": "stdout",
       "text": [
        "\n",
        "Processing: /home/andres/Documents/01 Documentos/06 Santa Barbara/Lectures/240E/ipython/sources/109193__juskiddink__leq-acappella.wav\n",
        "Processing: /home/andres/Documents/01 Documentos/06 Santa Barbara/Lectures/240E/ipython/sources/Isaac Hayes - Out Of The Ghetto.mp3"
       ]
      },
      {
       "output_type": "stream",
       "stream": "stdout",
       "text": [
        "\n",
        "Processing: /home/andres/Documents/01 Documentos/06 Santa Barbara/Lectures/240E/ipython/sources/superstition.wav\n",
        "Processing: /home/andres/Documents/01 Documentos/06 Santa Barbara/Lectures/240E/ipython/sources/Palestrina-Gloria.mp3"
       ]
      },
      {
       "output_type": "stream",
       "stream": "stdout",
       "text": [
        "\n",
        "Processing: /home/andres/Documents/01 Documentos/06 Santa Barbara/Lectures/240E/ipython/sources/32804__johnwally__solo-man.wav\n",
        "Processing: /home/andres/Documents/01 Documentos/06 Santa Barbara/Lectures/240E/ipython/sources/Stevie Wonder - Superstition.mp3"
       ]
      },
      {
       "output_type": "stream",
       "stream": "stdout",
       "text": [
        "\n"
       ]
      }
     ],
     "prompt_number": 34
    },
    {
     "cell_type": "code",
     "collapsed": false,
     "input": [
      "mfccs = []\n",
      "for row in arff.load('mfcc_python.arff'):\n",
      "    mfccs.append(list(row)[1:14])"
     ],
     "language": "python",
     "metadata": {},
     "outputs": [],
     "prompt_number": 35
    },
    {
     "cell_type": "code",
     "collapsed": false,
     "input": [
      "imshow(array(mfccs).T, interpolation='nearest', aspect='auto')\n",
      "colorbar()"
     ],
     "language": "python",
     "metadata": {},
     "outputs": [
      {
       "output_type": "pyout",
       "prompt_number": 36,
       "text": [
        "<matplotlib.colorbar.Colorbar instance at 0x3afac68>"
       ]
      },
      {
       "output_type": "display_data",
       "png": "[encoded data removed]"
      }
     ],
     "prompt_number": 36
    },
    {
     "cell_type": "heading",
     "level": 2,
     "metadata": {},
     "source": [
      "Marsyas scripting language"
     ]
    },
    {
     "cell_type": "markdown",
     "metadata": {},
     "source": [
      "Marsyas can be used interactively:\n",
      "\n",
      "http://marsyas.info/assets/docs/manual/marsyas-user/msl.html#msl"
     ]
    },
    {
     "cell_type": "markdown",
     "metadata": {},
     "source": [
      "By Andr\u00e9s Cabrera mantaraya36@gmail.com\n",
      "\n",
      "For course MAT 240E at UCSB\n",
      "\n",
      "This ipython notebook is licensed under the CC-BY-NC-SA license: http://creativecommons.org/licenses/by-nc-sa/4.0/\n",
      "\n",
      "![http://i.creativecommons.org/l/by-nc-sa/3.0/88x31.png](http://i.creativecommons.org/l/by-nc-sa/3.0/88x31.png)"
     ]
    }
   ],
   "metadata": {}
  }
 ]
}